{
 "cells": [
  {
   "cell_type": "markdown",
   "metadata": {
    "slideshow": {
     "slide_type": "slide"
    }
   },
   "source": [
    "# *IceFlow & icepyx*: Altimetry Time Series Tutorial\n",
    "### NASA Earthdata Webinar - April 2021</b>\n",
    "\n",
    "This tutorial demonstrates how to harmonize several NASA altimetry data products with varying temporal coverage, formats, and coordinate reference frames using the IceFlow and icepyx Python tools. \n",
    "\n",
    "#### Questions addressed:\n",
    "\n",
    "#### Objectives:\n",
    "1. Explore coverage and structure of the data...\n",
    "2. Use IceFlow map widget to view area of interest...\n",
    "3. Search and download spatiotemporally coincident data...\n",
    "4. Use icepyx to subset ICESat-2 data...\n",
    "5. Learn about advanced icepyx features...\n",
    "6. Extract variables across all data products...\n",
    "7. Visualize time series...\n",
    "\n",
    "<b>Authors:</b><br />\n",
    "<span style=\"font-size:larger;\">Jessica Scheick</span>, *University of New Hampshire*, Durham, New Hampshire<br />\n",
    "<span style=\"font-size:larger;\">Nicholas Kotlinski & Amy Steiker</span>, *NASA National Snow and Ice Data Center DAAC*, Boulder, Colorado, USA\n",
    "\n",
    "---"
   ]
  },
  {
   "cell_type": "markdown",
   "metadata": {
    "slideshow": {
     "slide_type": "subslide"
    }
   },
   "source": [
    "#### Running this tutorial locally\n",
    "\n",
    "To run this notebook locally, you must first create a computing environment. The easiest way to do this is by downloading the [`environment.yml`](https://github.com/nsidc/NSIDC-Data-Tutorials/blob/main/binder/environment.yml) file from [NSIDC's GitHub Repository of Data Tutorials](https://github.com/nsidc/NSIDC-Data-Tutorials). Then, navigate to the directory where you've stored the file and run:\n",
    "```\n",
    "conda env create -n iceflow-env -f environment.yml\n",
    "activate iceflow-env\n",
    "```\n",
    "\n",
    "Then open the notebook using your preferred viewer ([JupyterLab](https://jupyterlab.readthedocs.io/en/stable/getting_started/starting.html) is included in this environment). More detailed instructions on setting up environments with conda can be found [here](https://docs.conda.io/projects/conda/en/latest/user-guide/tasks/manage-environments.html#creating-an-environment-from-an-environment-yml-file).\n",
    "\n",
    "This notebook can be downloaded from [GitHub](https://github.com/nsidc/NSIDC-Data-Tutorials/tree/main/notebooks)."
   ]
  },
  {
   "cell_type": "markdown",
   "metadata": {
    "slideshow": {
     "slide_type": "subslide"
    }
   },
   "source": [
    "<b>Other needs:</b><br />\n",
    "* X Markdown on how to run the notebook locally (we might need to adjust the link for where the notebook is).\n",
    "* IceFlow API examples\n",
    "* icepyx examples\n",
    "* Code to configure an ICESat-2 file to match IceFlow data dictionary"
   ]
  },
  {
   "cell_type": "markdown",
   "metadata": {
    "slideshow": {
     "slide_type": "slide"
    }
   },
   "source": [
    "### 1. NASA's Earthdata Credentials\n",
    "\n",
    "To access data using the *IceFlow* library and *icepyx* package, it is necessary to log into [Earthdata Login](https://urs.earthdata.nasa.gov/). To do this, enter your NASA Earthdata credentials in the next step after executing the following code cell.\n",
    "\n",
    "**Note**: If you don't have NASA Earthdata credentials you will need to register first at the link above. An account is free and available to everyone!"
   ]
  },
  {
   "cell_type": "code",
   "execution_count": null,
   "metadata": {
    "slideshow": {
     "slide_type": "slide"
    }
   },
   "outputs": [],
   "source": [
    "# This cell will prompt you for your Earthdata username and password. Press\n",
    "from iceflow.ui import IceFlowUI\n",
    "client = IceFlowUI()\n",
    "client.display_credentials()"
   ]
  },
  {
   "cell_type": "code",
   "execution_count": null,
   "metadata": {
    "slideshow": {
     "slide_type": "subslide"
    }
   },
   "outputs": [],
   "source": [
    "# This cell will verify if your credentials are valid. \n",
    "# This may take a little while. If it fails, please try again.\n",
    "\n",
    "authorized = client.authenticate()\n",
    "if authorized is None:\n",
    "    print('Earthdata Login not successful')\n",
    "else:\n",
    "    print('Earthdata Login successful!')"
   ]
  },
  {
   "cell_type": "markdown",
   "metadata": {
    "slideshow": {
     "slide_type": "subslide"
    }
   },
   "source": [
    "**Note:** If the output shows \"You are logged into NASA Earthdata!\", then you are ready to proceed!\n",
    "\n",
    "---"
   ]
  },
  {
   "cell_type": "markdown",
   "metadata": {
    "slideshow": {
     "slide_type": "slide"
    }
   },
   "source": [
    "### 2. Accessing and harmonizing data across missions\n",
    "#### 2.1. Accessing Data with the *IceFlow* Access Widget\n",
    "The *IceFlow* access widget is a user interface tool to visualize flightpaths from IceBridge, draw a region of interest, set spatio-temporal parameters and place data orders to the *IceFlow* API and *icepyx* package without the need to writing code.\n",
    "The output of the operations performed in the widget can be seen in the log window (right-most icon at the bottom of your browser.) \n",
    "<img src='./img/log-icons.png'> or by selecting it on the View menu \"Show log console\"\n",
    "\n",
    "**Note:** The access widget is currently stateless, so if you change any parameter you will have to redraw your bounding box or polygon."
   ]
  },
  {
   "cell_type": "code",
   "execution_count": null,
   "metadata": {
    "slideshow": {
     "slide_type": "slide"
    }
   },
   "outputs": [],
   "source": [
    "# Let's start with the user interface. Using 'horizontal' will add the widget inline.\n",
    "client.display_map('horizontal', extra_layers=True)"
   ]
  },
  {
   "cell_type": "markdown",
   "metadata": {
    "slideshow": {
     "slide_type": "slide"
    }
   },
   "source": [
    "#### 2.2. Accessing data with the *IceFlow* API"
   ]
  },
  {
   "cell_type": "markdown",
   "metadata": {},
   "source": [
    "### ToDo: Need to explain what the itrf and epoch values are and which ones are best to utilize in conjunction with ICESat-2 analysis. \n",
    "\n",
    "### **Amy note:** Will we see the bbox above in the map? Or is there another way we can visualize the area?"
   ]
  },
  {
   "cell_type": "code",
   "execution_count": null,
   "metadata": {
    "slideshow": {
     "slide_type": "subslide"
    }
   },
   "outputs": [],
   "source": [
    "# Small example subset over Jakobshavn glacier:\n",
    "my_params ={\n",
    "    'datasets': ['ATM1B', 'GLAH06', 'ILVIS2', 'ATL06'],\n",
    "    'start': '2008-01-01',\n",
    "    'end': '2018-12-31',\n",
    "    'bbox': '-49.787268,69.103805,-49.526401,69.218717',\n",
    "    'itrf': 'ITRF2014',\n",
    "    'epoch': '2014.1'\n",
    "}\n",
    "\n",
    "# returns a json dictionary, the request parameters and the order's response.\n",
    "granules_metadata = client.query_cmr(params=my_params)"
   ]
  },
  {
   "cell_type": "code",
   "execution_count": null,
   "metadata": {
    "slideshow": {
     "slide_type": "subslide"
    }
   },
   "outputs": [],
   "source": [
    "orders = client.place_data_orders(params=my_params)\n",
    "orders"
   ]
  },
  {
   "cell_type": "markdown",
   "metadata": {
    "slideshow": {
     "slide_type": "subslide"
    }
   },
   "source": [
    "#### Check Order Status\n",
    "The following cell will show you the status of your data order. You can proceed in the notebook once all orders are \"COMPLETE\". If you proceed earlier only the completed data orders will be downloaded."
   ]
  },
  {
   "cell_type": "code",
   "execution_count": null,
   "metadata": {
    "slideshow": {
     "slide_type": "subslide"
    }
   },
   "outputs": [],
   "source": [
    "for order in orders:\n",
    "    status = client.order_status(order)\n",
    "    print(order['dataset'], order['id'], status['status'])"
   ]
  },
  {
   "cell_type": "markdown",
   "metadata": {},
   "source": [
    "### **Amy Note** :In my order email history, I get 5 emails, and they all say that 0 granules were processed. Yet I am able to download the data in the next step."
   ]
  },
  {
   "cell_type": "markdown",
   "metadata": {
    "slideshow": {
     "slide_type": "subslide"
    }
   },
   "source": [
    "#### Download Data\n",
    "Once all data orders are \"COMPLETE\", you can proceed downloading the data. The data are downloaded to the /data folder of this notebook directory."
   ]
  },
  {
   "cell_type": "code",
   "execution_count": null,
   "metadata": {
    "slideshow": {
     "slide_type": "subslide"
    }
   },
   "outputs": [],
   "source": [
    "for order in orders:\n",
    "    status = client.order_status(order)\n",
    "    if status['status'] == 'COMPLETE':\n",
    "        client.download_order(order)"
   ]
  },
  {
   "cell_type": "markdown",
   "metadata": {
    "slideshow": {
     "slide_type": "subslide"
    }
   },
   "source": [
    "#### 2.3. Downloading ICESat-2 data with *icepyx*\n",
    "OR What's going on behind the scenes with *icepyx*"
   ]
  },
  {
   "cell_type": "code",
   "execution_count": null,
   "metadata": {
    "slideshow": {
     "slide_type": "slide"
    }
   },
   "outputs": [],
   "source": [
    "# Begin overview of icepyx including visualzation options"
   ]
  },
  {
   "cell_type": "markdown",
   "metadata": {
    "slideshow": {
     "slide_type": "slide"
    }
   },
   "source": [
    "---"
   ]
  },
  {
   "cell_type": "markdown",
   "metadata": {
    "slideshow": {
     "slide_type": "slide"
    }
   },
   "source": [
    "### 3. Working with the data\n",
    "Now that we have downloaded our data, we need to make sure that they are in a common format to do analysis across missions."
   ]
  },
  {
   "cell_type": "markdown",
   "metadata": {},
   "source": [
    "### **Amy Note**: We should explain the libraries we're importing briefly. I generally think it's better practice to put all imports at the very top of the notebook but I don't have any documentation on hand to back that up! In particular we shuold explain why wer're ignoring warnings (and this could probably be in the same code block as the previous block). "
   ]
  },
  {
   "cell_type": "code",
   "execution_count": 1,
   "metadata": {
    "slideshow": {
     "slide_type": "subslide"
    }
   },
   "outputs": [],
   "source": [
    "%matplotlib widget\n",
    "import matplotlib.pyplot as plt\n",
    "import cartopy.crs as ccrs\n",
    "import pandas as pd\n",
    "import geopandas as gpd\n",
    "from iceflow.processing import IceFlowProcessing as ifp"
   ]
  },
  {
   "cell_type": "code",
   "execution_count": null,
   "metadata": {
    "slideshow": {
     "slide_type": "subslide"
    }
   },
   "outputs": [],
   "source": [
    "import warnings\n",
    "warnings.filterwarnings(\"ignore\")"
   ]
  },
  {
   "cell_type": "code",
   "execution_count": 2,
   "metadata": {
    "slideshow": {
     "slide_type": "subslide"
    }
   },
   "outputs": [
    {
     "name": "stdout",
     "output_type": "stream",
     "text": [
      "Variable /gt1l/land_ice_segments/delta_time not found in data/processed_ATL06_20181214041627_11690105_003_01.h5.\n",
      "Variable /gt1l/land_ice_segments/h_li not found in data/processed_ATL06_20181214041627_11690105_003_01.h5.\n",
      "Variable /gt1l/land_ice_segments/latitude not found in data/processed_ATL06_20181214041627_11690105_003_01.h5.\n",
      "Variable /gt1l/land_ice_segments/longitude not found in data/processed_ATL06_20181214041627_11690105_003_01.h5.\n",
      "Variable /gt1r/land_ice_segments/delta_time not found in data/processed_ATL06_20181214041627_11690105_003_01.h5.\n",
      "Variable /gt1r/land_ice_segments/h_li not found in data/processed_ATL06_20181214041627_11690105_003_01.h5.\n",
      "Variable /gt1r/land_ice_segments/latitude not found in data/processed_ATL06_20181214041627_11690105_003_01.h5.\n",
      "Variable /gt1r/land_ice_segments/longitude not found in data/processed_ATL06_20181214041627_11690105_003_01.h5.\n"
     ]
    }
   ],
   "source": [
    "# Pre-IceBridge ATM granule data\n",
    "preib_gdf = ifp.to_geopandas('data/atm1b_data_2020-11-15T20-05.hdf5')\n",
    "# ICESat granule data\n",
    "glas_gdf = ifp.to_geopandas('data/twaties-test-GLAH06-2000-2010.h5')\n",
    "# ICESat-2 granule data\n",
    "is2_gdf = ifp.to_geopandas('data/processed_ATL06_20181214041627_11690105_003_01.h5')"
   ]
  },
  {
   "cell_type": "code",
   "execution_count": 7,
   "metadata": {
    "slideshow": {
     "slide_type": "subslide"
    }
   },
   "outputs": [
    {
     "data": {
      "text/html": [
       "<div>\n",
       "<style scoped>\n",
       "    .dataframe tbody tr th:only-of-type {\n",
       "        vertical-align: middle;\n",
       "    }\n",
       "\n",
       "    .dataframe tbody tr th {\n",
       "        vertical-align: top;\n",
       "    }\n",
       "\n",
       "    .dataframe thead th {\n",
       "        text-align: right;\n",
       "    }\n",
       "</style>\n",
       "<table border=\"1\" class=\"dataframe\">\n",
       "  <thead>\n",
       "    <tr style=\"text-align: right;\">\n",
       "      <th></th>\n",
       "      <th>latitude</th>\n",
       "      <th>longitude</th>\n",
       "      <th>elevation</th>\n",
       "      <th>geometry</th>\n",
       "    </tr>\n",
       "    <tr>\n",
       "      <th>time</th>\n",
       "      <th></th>\n",
       "      <th></th>\n",
       "      <th></th>\n",
       "      <th></th>\n",
       "    </tr>\n",
       "  </thead>\n",
       "  <tbody>\n",
       "    <tr>\n",
       "      <th>2002-11-28 19:34:56.257</th>\n",
       "      <td>-75.276492</td>\n",
       "      <td>-105.394557</td>\n",
       "      <td>108.382004</td>\n",
       "      <td>POINT (-105.39456 -75.27649)</td>\n",
       "    </tr>\n",
       "    <tr>\n",
       "      <th>2002-11-28 19:34:56.257</th>\n",
       "      <td>-75.276455</td>\n",
       "      <td>-105.394511</td>\n",
       "      <td>108.391998</td>\n",
       "      <td>POINT (-105.39451 -75.27645)</td>\n",
       "    </tr>\n",
       "    <tr>\n",
       "      <th>2002-11-28 19:34:56.257</th>\n",
       "      <td>-75.276418</td>\n",
       "      <td>-105.394469</td>\n",
       "      <td>108.234001</td>\n",
       "      <td>POINT (-105.39447 -75.27642)</td>\n",
       "    </tr>\n",
       "    <tr>\n",
       "      <th>2002-11-28 19:34:56.257</th>\n",
       "      <td>-75.276381</td>\n",
       "      <td>-105.394433</td>\n",
       "      <td>108.156998</td>\n",
       "      <td>POINT (-105.39443 -75.27638)</td>\n",
       "    </tr>\n",
       "    <tr>\n",
       "      <th>2002-11-28 19:34:56.258</th>\n",
       "      <td>-75.276345</td>\n",
       "      <td>-105.394401</td>\n",
       "      <td>107.953003</td>\n",
       "      <td>POINT (-105.39440 -75.27635)</td>\n",
       "    </tr>\n",
       "  </tbody>\n",
       "</table>\n",
       "</div>"
      ],
      "text/plain": [
       "                          latitude   longitude   elevation  \\\n",
       "time                                                         \n",
       "2002-11-28 19:34:56.257 -75.276492 -105.394557  108.382004   \n",
       "2002-11-28 19:34:56.257 -75.276455 -105.394511  108.391998   \n",
       "2002-11-28 19:34:56.257 -75.276418 -105.394469  108.234001   \n",
       "2002-11-28 19:34:56.257 -75.276381 -105.394433  108.156998   \n",
       "2002-11-28 19:34:56.258 -75.276345 -105.394401  107.953003   \n",
       "\n",
       "                                             geometry  \n",
       "time                                                   \n",
       "2002-11-28 19:34:56.257  POINT (-105.39456 -75.27649)  \n",
       "2002-11-28 19:34:56.257  POINT (-105.39451 -75.27645)  \n",
       "2002-11-28 19:34:56.257  POINT (-105.39447 -75.27642)  \n",
       "2002-11-28 19:34:56.257  POINT (-105.39443 -75.27638)  \n",
       "2002-11-28 19:34:56.258  POINT (-105.39440 -75.27635)  "
      ]
     },
     "metadata": {},
     "output_type": "display_data"
    },
    {
     "data": {
      "text/plain": [
       "(436439, 4)"
      ]
     },
     "metadata": {},
     "output_type": "display_data"
    }
   ],
   "source": [
    "# first, let's see what's in the harmonized dataframe and its shape.\n",
    "display(preib_gdf.head(), preib_gdf.shape)"
   ]
  },
  {
   "cell_type": "code",
   "execution_count": 8,
   "metadata": {
    "slideshow": {
     "slide_type": "subslide"
    }
   },
   "outputs": [
    {
     "data": {
      "text/html": [
       "<div>\n",
       "<style scoped>\n",
       "    .dataframe tbody tr th:only-of-type {\n",
       "        vertical-align: middle;\n",
       "    }\n",
       "\n",
       "    .dataframe tbody tr th {\n",
       "        vertical-align: top;\n",
       "    }\n",
       "\n",
       "    .dataframe thead th {\n",
       "        text-align: right;\n",
       "    }\n",
       "</style>\n",
       "<table border=\"1\" class=\"dataframe\">\n",
       "  <thead>\n",
       "    <tr style=\"text-align: right;\">\n",
       "      <th></th>\n",
       "      <th>latitude</th>\n",
       "      <th>longitude</th>\n",
       "      <th>elevation</th>\n",
       "      <th>geometry</th>\n",
       "    </tr>\n",
       "    <tr>\n",
       "      <th>time</th>\n",
       "      <th></th>\n",
       "      <th></th>\n",
       "      <th></th>\n",
       "      <th></th>\n",
       "    </tr>\n",
       "  </thead>\n",
       "  <tbody>\n",
       "    <tr>\n",
       "      <th>2003-02-25 11:15:44.377777</th>\n",
       "      <td>-75.330202</td>\n",
       "      <td>-105.341199</td>\n",
       "      <td>236.777</td>\n",
       "      <td>POINT (-105.34120 -75.33020)</td>\n",
       "    </tr>\n",
       "    <tr>\n",
       "      <th>2003-02-25 11:15:44.402777</th>\n",
       "      <td>-75.328719</td>\n",
       "      <td>-105.342984</td>\n",
       "      <td>237.621</td>\n",
       "      <td>POINT (-105.34298 -75.32872)</td>\n",
       "    </tr>\n",
       "    <tr>\n",
       "      <th>2003-02-25 11:15:44.427777</th>\n",
       "      <td>-75.327238</td>\n",
       "      <td>-105.344776</td>\n",
       "      <td>236.192</td>\n",
       "      <td>POINT (-105.34478 -75.32724)</td>\n",
       "    </tr>\n",
       "    <tr>\n",
       "      <th>2003-02-25 11:15:44.452777</th>\n",
       "      <td>-75.325758</td>\n",
       "      <td>-105.346574</td>\n",
       "      <td>232.466</td>\n",
       "      <td>POINT (-105.34657 -75.32576)</td>\n",
       "    </tr>\n",
       "    <tr>\n",
       "      <th>2003-02-25 11:15:44.477777</th>\n",
       "      <td>-75.324280</td>\n",
       "      <td>-105.348378</td>\n",
       "      <td>226.501</td>\n",
       "      <td>POINT (-105.34838 -75.32428)</td>\n",
       "    </tr>\n",
       "  </tbody>\n",
       "</table>\n",
       "</div>"
      ],
      "text/plain": [
       "                             latitude   longitude  elevation  \\\n",
       "time                                                           \n",
       "2003-02-25 11:15:44.377777 -75.330202 -105.341199    236.777   \n",
       "2003-02-25 11:15:44.402777 -75.328719 -105.342984    237.621   \n",
       "2003-02-25 11:15:44.427777 -75.327238 -105.344776    236.192   \n",
       "2003-02-25 11:15:44.452777 -75.325758 -105.346574    232.466   \n",
       "2003-02-25 11:15:44.477777 -75.324280 -105.348378    226.501   \n",
       "\n",
       "                                                geometry  \n",
       "time                                                      \n",
       "2003-02-25 11:15:44.377777  POINT (-105.34120 -75.33020)  \n",
       "2003-02-25 11:15:44.402777  POINT (-105.34298 -75.32872)  \n",
       "2003-02-25 11:15:44.427777  POINT (-105.34478 -75.32724)  \n",
       "2003-02-25 11:15:44.452777  POINT (-105.34657 -75.32576)  \n",
       "2003-02-25 11:15:44.477777  POINT (-105.34838 -75.32428)  "
      ]
     },
     "metadata": {},
     "output_type": "display_data"
    },
    {
     "data": {
      "text/plain": [
       "(42436, 4)"
      ]
     },
     "metadata": {},
     "output_type": "display_data"
    }
   ],
   "source": [
    "# we do the same for the ICESat/GLAS dataframe\n",
    "display(glas_gdf.head(), glas_gdf.shape)"
   ]
  },
  {
   "cell_type": "code",
   "execution_count": 9,
   "metadata": {},
   "outputs": [
    {
     "data": {
      "text/html": [
       "<div>\n",
       "<style scoped>\n",
       "    .dataframe tbody tr th:only-of-type {\n",
       "        vertical-align: middle;\n",
       "    }\n",
       "\n",
       "    .dataframe tbody tr th {\n",
       "        vertical-align: top;\n",
       "    }\n",
       "\n",
       "    .dataframe thead th {\n",
       "        text-align: right;\n",
       "    }\n",
       "</style>\n",
       "<table border=\"1\" class=\"dataframe\">\n",
       "  <thead>\n",
       "    <tr style=\"text-align: right;\">\n",
       "      <th></th>\n",
       "      <th>elevation</th>\n",
       "      <th>latitude</th>\n",
       "      <th>longitude</th>\n",
       "      <th>geometry</th>\n",
       "    </tr>\n",
       "    <tr>\n",
       "      <th>time</th>\n",
       "      <th></th>\n",
       "      <th></th>\n",
       "      <th></th>\n",
       "      <th></th>\n",
       "    </tr>\n",
       "  </thead>\n",
       "  <tbody>\n",
       "    <tr>\n",
       "      <th>1970-01-01 00:00:00.029996359</th>\n",
       "      <td>NaN</td>\n",
       "      <td>69.218585</td>\n",
       "      <td>-49.575167</td>\n",
       "      <td>POINT (-49.57517 69.21859)</td>\n",
       "    </tr>\n",
       "    <tr>\n",
       "      <th>1970-01-01 00:00:00.029996359</th>\n",
       "      <td>NaN</td>\n",
       "      <td>69.218053</td>\n",
       "      <td>-49.575350</td>\n",
       "      <td>POINT (-49.57535 69.21805)</td>\n",
       "    </tr>\n",
       "    <tr>\n",
       "      <th>1970-01-01 00:00:00.029996359</th>\n",
       "      <td>369.441101</td>\n",
       "      <td>69.217695</td>\n",
       "      <td>-49.575468</td>\n",
       "      <td>POINT (-49.57547 69.21769)</td>\n",
       "    </tr>\n",
       "    <tr>\n",
       "      <th>1970-01-01 00:00:00.029996359</th>\n",
       "      <td>369.938751</td>\n",
       "      <td>69.217160</td>\n",
       "      <td>-49.575646</td>\n",
       "      <td>POINT (-49.57565 69.21716)</td>\n",
       "    </tr>\n",
       "    <tr>\n",
       "      <th>1970-01-01 00:00:00.029996359</th>\n",
       "      <td>365.230255</td>\n",
       "      <td>69.216982</td>\n",
       "      <td>-49.575707</td>\n",
       "      <td>POINT (-49.57571 69.21698)</td>\n",
       "    </tr>\n",
       "  </tbody>\n",
       "</table>\n",
       "</div>"
      ],
      "text/plain": [
       "                                elevation   latitude  longitude  \\\n",
       "time                                                              \n",
       "1970-01-01 00:00:00.029996359         NaN  69.218585 -49.575167   \n",
       "1970-01-01 00:00:00.029996359         NaN  69.218053 -49.575350   \n",
       "1970-01-01 00:00:00.029996359  369.441101  69.217695 -49.575468   \n",
       "1970-01-01 00:00:00.029996359  369.938751  69.217160 -49.575646   \n",
       "1970-01-01 00:00:00.029996359  365.230255  69.216982 -49.575707   \n",
       "\n",
       "                                                 geometry  \n",
       "time                                                       \n",
       "1970-01-01 00:00:00.029996359  POINT (-49.57517 69.21859)  \n",
       "1970-01-01 00:00:00.029996359  POINT (-49.57535 69.21805)  \n",
       "1970-01-01 00:00:00.029996359  POINT (-49.57547 69.21769)  \n",
       "1970-01-01 00:00:00.029996359  POINT (-49.57565 69.21716)  \n",
       "1970-01-01 00:00:00.029996359  POINT (-49.57571 69.21698)  "
      ]
     },
     "metadata": {},
     "output_type": "display_data"
    },
    {
     "data": {
      "text/plain": [
       "(1118, 4)"
      ]
     },
     "metadata": {},
     "output_type": "display_data"
    }
   ],
   "source": [
    "display(is2_gdf.head(), is2_gdf.shape)"
   ]
  },
  {
   "cell_type": "markdown",
   "metadata": {
    "slideshow": {
     "slide_type": "subslide"
    }
   },
   "source": [
    "---"
   ]
  },
  {
   "cell_type": "markdown",
   "metadata": {
    "slideshow": {
     "slide_type": "slide"
    }
   },
   "source": [
    "Use code and example from https://nbviewer.jupyter.org/github/nicholas-kotlinski/2020_ICESat-2_Hackweek_Tutorials/blob/master/05.Geospatial_Analysis/shean_ICESat-2_hackweek_tutorial_GeospatialAnalysis_rendered.ipynb"
   ]
  },
  {
   "cell_type": "markdown",
   "metadata": {
    "slideshow": {
     "slide_type": "slide"
    }
   },
   "source": [
    "## [Draft notebook for April 2021 Earthdata Webinar]\n",
    "\n",
    "#### Learning Objectives (tbd)\n",
    "* (goal from discussion) Introduce audience to the “Ice cubed” (ICESat/OIB/ICESat-2) missions and products\n",
    "* (goal from discussion Promote icepyx and IceFlow as a way to address the need to access/harmonize multiple data products/resolutions/formats/structure\n",
    "\n",
    "\n",
    "#### Webinar Outline\n",
    "* Intro of harmonization challenge\n",
    "    - Moving one level deeper into the need for time series analysis across disparate platforms\n",
    "* Intro to the altimetry missions\n",
    "    - Use the IceFlow intro notebook to guide this\n",
    "    - Highlight the impressive time series\n",
    "* Overview of IceFlow and icepyx\n",
    "    - Audience and use cases of these tools\n",
    "    - Icepyx genesis, open science and community development principles\n",
    "        - working on that balance between community development and end use\n",
    "    - IceFlow overview\n",
    "    - How do these tools address challenges\n",
    "        - IceFlow aims to make it easier to harmonize OIB/ICESat data with ICESat-2 using backend IceFlow API\n",
    "* Use Case / Application\n",
    "    - Leverage ICESat-2 hackweek topics\n",
    "    - https://github.com/ICESAT-2HackWeek/geospatial-analysis/blob/master/shean_ICESat-2_hackweek_tutorial_GeospatialAnalysis.ipynb\n",
    "* Short navigation of nsidc site, how to get to tools, notebook\n",
    "    - Have Jennifer post links while we talk.\n",
    "* Demos\n",
    "    - **Use this notebook to pulls pieces of iceflow / icepyx using a specific science application**"
   ]
  }
 ],
 "metadata": {
  "celltoolbar": "Slideshow",
  "kernelspec": {
   "display_name": "Python 3",
   "language": "python",
   "name": "python3"
  },
  "language_info": {
   "codemirror_mode": {
    "name": "ipython",
    "version": 3
   },
   "file_extension": ".py",
   "mimetype": "text/x-python",
   "name": "python",
   "nbconvert_exporter": "python",
   "pygments_lexer": "ipython3",
   "version": "3.7.10"
  }
 },
 "nbformat": 4,
 "nbformat_minor": 4
}
