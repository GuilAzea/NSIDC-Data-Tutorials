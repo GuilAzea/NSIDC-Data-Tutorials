{
 "cells": [
  {
   "cell_type": "markdown",
   "metadata": {},
   "source": [
    "## [Draft notebook for April 2021 Earthdata Webinar]\n",
    "\n",
    "#### Learning Objectives (tbd)\n",
    "* (goal from discussion) Introduce audience to the “Ice cubed” (ICESat/OIB/ICESat-2) missions and products\n",
    "* (goal from discussion Promote icepyx and IceFlow as a way to address the need to access/harmonize multiple data products/resolutions/formats/structure\n",
    "\n",
    "\n",
    "#### Webinar Outline\n",
    "* Intro of harmonization challenge\n",
    "    - Moving one level deeper into the need for time series analysis across disparate platforms\n",
    "* Intro to the altimetry missions\n",
    "    - Use the IceFlow intro notebook to guide this\n",
    "    - Highlight the impressive time series\n",
    "* Overview of IceFlow and icepyx\n",
    "    - Audience and use cases of these tools\n",
    "    - Icepyx genesis, open science and community development principles\n",
    "        - working on that balance between community development and end use\n",
    "    - IceFlow overview\n",
    "    - How do these tools address challenges\n",
    "        - IceFlow aims to make it easier to harmonize OIB/ICESat data with ICESat-2 using backend IceFlow API\n",
    "* Use Case / Application\n",
    "    - Leverage ICESat-2 hackweek topics\n",
    "    - https://github.com/ICESAT-2HackWeek/geospatial-analysis/blob/master/shean_ICESat-2_hackweek_tutorial_GeospatialAnalysis.ipynb\n",
    "* Short navigation of nsidc site, how to get to tools, notebook\n",
    "    - Have Jennifer post links while we talk.\n",
    "* Demos\n",
    "    - **Use this notebook to pulls pieces of iceflow / icepyx using a specific science application**"
   ]
  },
  {
   "cell_type": "markdown",
   "metadata": {},
   "source": [
    "# MAKING CHANGES"
   ]
  },
  {
   "cell_type": "markdown",
   "metadata": {},
   "source": [
    "# Changes"
   ]
  }
 ],
 "metadata": {
  "kernelspec": {
   "display_name": "Python 3",
   "language": "python",
   "name": "python3"
  },
  "language_info": {
   "codemirror_mode": {
    "name": "ipython",
    "version": 3
   },
   "file_extension": ".py",
   "mimetype": "text/x-python",
   "name": "python",
   "nbconvert_exporter": "python",
   "pygments_lexer": "ipython3",
   "version": "3.8.3"
  }
 },
 "nbformat": 4,
 "nbformat_minor": 4
}
