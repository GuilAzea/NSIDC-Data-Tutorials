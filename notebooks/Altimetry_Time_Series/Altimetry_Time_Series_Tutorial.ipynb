{
 "cells": [
  {
   "cell_type": "markdown",
   "metadata": {
    "slideshow": {
     "slide_type": "slide"
    }
   },
   "source": [
    "# *IceFlow & icepyx*: Altimetry Time Series Tutorial\n",
    "### Earthdata Webinar - April 2021</b>\n",
    "\n",
    "<b>Authors:</b><br />\n",
    "<span style=\"font-size:larger;\">Jessica Scheick</span>, *University of New Hampshire*, Durham, New Hampshire<br />\n",
    "<span style=\"font-size:larger;\">Nicholas Kotlinski & Amy Steiker</span>, *NASA National Snow and Ice Data Center DAAC*, Boulder, Colorado, USA\n",
    "\n",
    "---"
   ]
  },
  {
   "cell_type": "markdown",
   "metadata": {
    "slideshow": {
     "slide_type": "subslide"
    }
   },
   "source": [
    "#### Running this tutorial locally\n",
    "\n",
    "To run this notebook locally, you must first create a computing environment. The easiest way to do this is by downloading the [`environment.yml`](https://github.com/nsidc/NSIDC-Data-Tutorials/blob/main/binder/environment.yml) file from [NSIDC's GitHub Repository of Data Tutorials](https://github.com/nsidc/NSIDC-Data-Tutorials). Then, navigate to the directory where you've stored the file and run:\n",
    "```\n",
    "conda env create -n iceflow-env -f environment.yml\n",
    "activate iceflow-env\n",
    "```\n",
    "\n",
    "Then open the notebook using your preferred viewer ([JupyterLab](https://jupyterlab.readthedocs.io/en/stable/getting_started/starting.html) is included in this environment). More detailed instructions on setting up environments with conda can be found [here](https://docs.conda.io/projects/conda/en/latest/user-guide/tasks/manage-environments.html#creating-an-environment-from-an-environment-yml-file).\n",
    "\n",
    "This notebook can be downloaded from [GitHub](https://github.com/nsidc/NSIDC-Data-Tutorials/tree/main/notebooks)."
   ]
  },
  {
   "cell_type": "markdown",
   "metadata": {
    "slideshow": {
     "slide_type": "subslide"
    }
   },
   "source": [
    "<b>Other needs:</b><br />\n",
    "* X Markdown on how to run the notebook locally (we might need to adjust the link for where the notebook is).\n",
    "* IceFlow API examples\n",
    "* icepyx examples\n",
    "* Code to configure an ICESat-2 file to match IceFlow data dictionary"
   ]
  },
  {
   "cell_type": "markdown",
   "metadata": {
    "slideshow": {
     "slide_type": "slide"
    }
   },
   "source": [
    "### 1. NASA's Earthdata Credentials\n",
    "\n",
    "To access data using the *IceFlow* library and *icepyx* package, it is necessary to log into [Earthdata Login](https://urs.earthdata.nasa.gov/). To do this, enter your NASA Earthdata credentials in the next step after executing the following code cell.\n",
    "\n",
    "**Note**: If you don't have NASA Earthdata credentials you will need to register first at the link above. An account is free and available to everyone!"
   ]
  },
  {
   "cell_type": "code",
   "execution_count": null,
   "metadata": {
    "slideshow": {
     "slide_type": "slide"
    }
   },
   "outputs": [],
   "source": [
    "# This cell will prompt you for your Earthdata username and password. Press\n",
    "from iceflow.ui import IceFlowUI\n",
    "client = IceFlowUI()\n",
    "client.display_credentials()"
   ]
  },
  {
   "cell_type": "code",
   "execution_count": null,
   "metadata": {
    "slideshow": {
     "slide_type": "subslide"
    }
   },
   "outputs": [],
   "source": [
    "# This cell will verify if your credentials are valid. \n",
    "# This may take a little while. If it fails, please try again.\n",
    "\n",
    "authorized = client.authenticate()\n",
    "if authorized is None:\n",
    "    print('Earthdata Login not successful')\n",
    "else:\n",
    "    print('Earthdata Login successful!')"
   ]
  },
  {
   "cell_type": "markdown",
   "metadata": {
    "slideshow": {
     "slide_type": "subslide"
    }
   },
   "source": [
    "**Note:** If the output shows \"You are logged into NASA Earthdata!\", then you are ready to proceed!\n",
    "\n",
    "---"
   ]
  },
  {
   "cell_type": "markdown",
   "metadata": {
    "slideshow": {
     "slide_type": "slide"
    }
   },
   "source": [
    "### 2. Accessing and harmonizing data across missions\n",
    "#### 2.1. Accessing Data with the *IceFlow* Access Widget\n",
    "The *IceFlow* access widget is a user interface tool to visualize flightpaths from IceBridge, draw a region of interest, set spatio-temporal parameters and place data orders to the *IceFlow* API and *icepyx* package without the need to writing code.\n",
    "The output of the operations performed in the widget can be seen in the log window (right-most icon at the bottom of your browser.) \n",
    "<img src='./img/log-icons.png'> or by selecting it on the View menu \"Show log console\"\n",
    "\n",
    "**Note:** The access widget is currently stateless, so if you change any parameter you will have to redraw your bounding box or polygon."
   ]
  },
  {
   "cell_type": "code",
   "execution_count": null,
   "metadata": {
    "slideshow": {
     "slide_type": "slide"
    }
   },
   "outputs": [],
   "source": [
    "# Let's start with the user interface. Using 'horizontal' will add the widget inline.\n",
    "client.display_map('horizontal', extra_layers=True)"
   ]
  },
  {
   "cell_type": "markdown",
   "metadata": {
    "slideshow": {
     "slide_type": "slide"
    }
   },
   "source": [
    "#### 2.2. Accessing data with the *IceFlow* API"
   ]
  },
  {
   "cell_type": "code",
   "execution_count": null,
   "metadata": {
    "slideshow": {
     "slide_type": "subslide"
    }
   },
   "outputs": [],
   "source": [
    "# Small example subset over Jakobshavn glacier:\n",
    "my_params ={\n",
    "    'datasets': ['ATM1B', 'GLAH06', 'ILVIS2', 'ATL06'],\n",
    "    'start': '2008-01-01',\n",
    "    'end': '2018-12-31',\n",
    "    'bbox': '-49.787268,69.103805,-49.526401,69.218717',\n",
    "    'itrf': 'ITRF2014',\n",
    "    'epoch': '2014.1'\n",
    "}\n",
    "\n",
    "# returns a json dictionary, the request parameters and the order's response.\n",
    "granules_metadata = client.query_cmr(params=my_params)"
   ]
  },
  {
   "cell_type": "code",
   "execution_count": null,
   "metadata": {
    "slideshow": {
     "slide_type": "subslide"
    }
   },
   "outputs": [],
   "source": [
    "orders = client.place_data_orders(params=my_params)\n",
    "orders"
   ]
  },
  {
   "cell_type": "markdown",
   "metadata": {
    "slideshow": {
     "slide_type": "subslide"
    }
   },
   "source": [
    "#### Check Order Status\n",
    "The following cell will show you the status of your data order. You can proceed in the notebook once all orders are \"COMPLETE\". If you proceed earlier only the completed data orders will be downloaded."
   ]
  },
  {
   "cell_type": "code",
   "execution_count": null,
   "metadata": {
    "slideshow": {
     "slide_type": "subslide"
    }
   },
   "outputs": [],
   "source": [
    "for order in orders:\n",
    "    status = client.order_status(order)\n",
    "    print(order['dataset'], order['id'], status['status'])"
   ]
  },
  {
   "cell_type": "markdown",
   "metadata": {
    "slideshow": {
     "slide_type": "subslide"
    }
   },
   "source": [
    "#### Download Data\n",
    "Once all data orders are \"COMPLETE\", you can proceed downloading the data:"
   ]
  },
  {
   "cell_type": "code",
   "execution_count": null,
   "metadata": {
    "slideshow": {
     "slide_type": "subslide"
    }
   },
   "outputs": [],
   "source": [
    "for order in orders:\n",
    "    status = client.order_status(order)\n",
    "    if status['status'] == 'COMPLETE':\n",
    "        client.download_order(order)"
   ]
  },
  {
   "cell_type": "markdown",
   "metadata": {
    "slideshow": {
     "slide_type": "subslide"
    }
   },
   "source": [
    "#### 2.3. Downloading ICESat-2 data with *icepyx*\n",
    "OR What's going on behind the scenes with *icepyx*"
   ]
  },
  {
   "cell_type": "code",
   "execution_count": null,
   "metadata": {
    "slideshow": {
     "slide_type": "slide"
    }
   },
   "outputs": [],
   "source": [
    "# Begin overview of icepyx including visualzation options"
   ]
  },
  {
   "cell_type": "markdown",
   "metadata": {
    "slideshow": {
     "slide_type": "slide"
    }
   },
   "source": [
    "---"
   ]
  },
  {
   "cell_type": "markdown",
   "metadata": {
    "slideshow": {
     "slide_type": "slide"
    }
   },
   "source": [
    "### 3. Working with the data\n",
    "Now that we have downloaded our data, we need to make sure that they are in a common format to do analysis across missions."
   ]
  },
  {
   "cell_type": "code",
   "execution_count": null,
   "metadata": {
    "slideshow": {
     "slide_type": "subslide"
    }
   },
   "outputs": [],
   "source": [
    "%matplotlib widget\n",
    "import matplotlib.pyplot as plt\n",
    "import cartopy.crs as ccrs\n",
    "import pandas as pd\n",
    "import geopandas as gpd\n",
    "from iceflow.processing import IceFlowProcessing as ifp"
   ]
  },
  {
   "cell_type": "code",
   "execution_count": null,
   "metadata": {
    "slideshow": {
     "slide_type": "subslide"
    }
   },
   "outputs": [],
   "source": [
    "import warnings\n",
    "warnings.filterwarnings(\"ignore\")"
   ]
  },
  {
   "cell_type": "code",
   "execution_count": null,
   "metadata": {
    "slideshow": {
     "slide_type": "subslide"
    }
   },
   "outputs": [],
   "source": [
    "# Pre-IceBridge ATM granule data\n",
    "preib_gdf = ifp.to_geopandas('data/atm1b_data_2020-11-15T20-05.hdf5')\n",
    "# ICESat granule data\n",
    "glas_gdf = ifp.to_geopandas('data/twaties-test-GLAH06-2000-2010.h5')"
   ]
  },
  {
   "cell_type": "code",
   "execution_count": null,
   "metadata": {
    "slideshow": {
     "slide_type": "subslide"
    }
   },
   "outputs": [],
   "source": [
    "# Either add processing for ICESat-2 to processing.py or do it in-line here\n",
    "# ICESat-2 granule data\n",
    "#is2_gdf = ifp.to_geopandas('data/processed_ATL06_20181015100401_02560110_003_01.h5')"
   ]
  },
  {
   "cell_type": "code",
   "execution_count": null,
   "metadata": {
    "slideshow": {
     "slide_type": "subslide"
    }
   },
   "outputs": [],
   "source": [
    "# first, let's see what's in the harmonized dataframe and its shape.\n",
    "display(preib_gdf.head(), preib_gdf.shape)"
   ]
  },
  {
   "cell_type": "code",
   "execution_count": null,
   "metadata": {
    "slideshow": {
     "slide_type": "subslide"
    }
   },
   "outputs": [],
   "source": [
    "# we do the same for the ICESat/GLAS dataframe\n",
    "display(glas_gdf.head(), glas_gdf.shape)"
   ]
  },
  {
   "cell_type": "markdown",
   "metadata": {
    "slideshow": {
     "slide_type": "subslide"
    }
   },
   "source": [
    "---"
   ]
  },
  {
   "cell_type": "markdown",
   "metadata": {
    "slideshow": {
     "slide_type": "slide"
    }
   },
   "source": [
    "Use code and example from https://nbviewer.jupyter.org/github/nicholas-kotlinski/2020_ICESat-2_Hackweek_Tutorials/blob/master/05.Geospatial_Analysis/shean_ICESat-2_hackweek_tutorial_GeospatialAnalysis_rendered.ipynb"
   ]
  },
  {
   "cell_type": "markdown",
   "metadata": {
    "slideshow": {
     "slide_type": "slide"
    }
   },
   "source": [
    "## [Draft notebook for April 2021 Earthdata Webinar]\n",
    "\n",
    "#### Learning Objectives (tbd)\n",
    "* (goal from discussion) Introduce audience to the “Ice cubed” (ICESat/OIB/ICESat-2) missions and products\n",
    "* (goal from discussion Promote icepyx and IceFlow as a way to address the need to access/harmonize multiple data products/resolutions/formats/structure\n",
    "\n",
    "\n",
    "#### Webinar Outline\n",
    "* Intro of harmonization challenge\n",
    "    - Moving one level deeper into the need for time series analysis across disparate platforms\n",
    "* Intro to the altimetry missions\n",
    "    - Use the IceFlow intro notebook to guide this\n",
    "    - Highlight the impressive time series\n",
    "* Overview of IceFlow and icepyx\n",
    "    - Audience and use cases of these tools\n",
    "    - Icepyx genesis, open science and community development principles\n",
    "        - working on that balance between community development and end use\n",
    "    - IceFlow overview\n",
    "    - How do these tools address challenges\n",
    "        - IceFlow aims to make it easier to harmonize OIB/ICESat data with ICESat-2 using backend IceFlow API\n",
    "* Use Case / Application\n",
    "    - Leverage ICESat-2 hackweek topics\n",
    "    - https://github.com/ICESAT-2HackWeek/geospatial-analysis/blob/master/shean_ICESat-2_hackweek_tutorial_GeospatialAnalysis.ipynb\n",
    "* Short navigation of nsidc site, how to get to tools, notebook\n",
    "    - Have Jennifer post links while we talk.\n",
    "* Demos\n",
    "    - **Use this notebook to pulls pieces of iceflow / icepyx using a specific science application**"
   ]
  }
 ],
 "metadata": {
  "celltoolbar": "Slideshow",
  "kernelspec": {
   "display_name": "Python 3",
   "language": "python",
   "name": "python3"
  },
  "language_info": {
   "codemirror_mode": {
    "name": "ipython",
    "version": 3
   },
   "file_extension": ".py",
   "mimetype": "text/x-python",
   "name": "python",
   "nbconvert_exporter": "python",
   "pygments_lexer": "ipython3",
   "version": "3.7.10"
  }
 },
 "nbformat": 4,
 "nbformat_minor": 4
}
