{
 "cells": [
  {
   "cell_type": "markdown",
   "metadata": {},
   "source": [
    "# Valkyrie Point Cloud Data Access\n",
    "\n",
    "\n",
    "\n",
    "The Valkyrie project provides web services for ordering spatially and temporally subsetted Lidar point cloud data from the [BLATM L1B](https://nsidc.org/data/BLATM1B), [ILATM L1B v1](https://nsidc.org/data/ilatm1b/versions/1), [ILATM L1B V2](https://nsidc.org/data/ILATM1B), [ILVIS2](https://nsidc.org/data/ILVIS2) and [IceSat GLAH06](https://nsidc.org/data/GLAH06/) data products. The following table describes the temporal and spatial coverage of each of these dataset as well as the sensor and platform used to acquire the data.\n",
    "\n",
    "\n",
    "---\n",
    "\n",
    "|              | Spatial Coverage                                                      | Temporal Coverage                              | Platform                                              | Sensor                   |\n",
    "|--------------|-----------------------------------------------------------------------|------------------------------------------------|-------------------------------------------------------|--------------------------|\n",
    "| BLATM L1B    | South: N:-53, S: -90, E:180, W:-180 North: N:90, S: 60, E:180, W:-180 | 23 June 1993 - 30 October 2008                 | DC-8, DHC-6, P-3A ORION, P-3B                         | ATM                      |\n",
    "| ILATM L1B V1 | South: N:-53, S: -90, E:180, W:-180 North: N:90, S: 60, E:180, W:-180 | 31 March 2009 - 8 November 2012 (updated 2013) | AIRCRAFT, DC-8, P-3B                                  | ATM                      |\n",
    "| ILATM L1B V2 | South: N:-53, S: -90, E:180, W:-180 North: N:90, S: 60, E:180, W:-180 | 20 March 2013 - 16 May 2019 (updated 2020)     | C-130, DC-8, HU-25A, HU-25C, P-3B, WP-3D ORION        | ATM                      |\n",
    "| ILVIS2       | North: N:90, S: 60, E:180, W:-180                                     | 25 August 2017 - 20 September 2017             | AIRCRAFT, B-200, C-130, DC-8, G-V, HU-25C, P-3B, RQ-4 | ALTIMETERS, LASERS, LVIS |\n",
    "| GLAH06       | Global: N:86, S: -86, E:180, W:-180                                     |     20 February 2003 - 11 October 2009        | IceSat | ALTIMETERS, CD, GLAS, GPS, GPS Receiver, LA, PC\n",
    "\n",
    "\n",
    "--- \n",
    "\n",
    "> Note: If you have any qustions about the data please contact NSIDC user services at users@nsidc.org\n",
    "\n",
    "In this tutorial we are going to use iPyLeaflet and other Jupyter widgets to select our constraints and put a data request to our Valkyrie API.\n",
    "\n",
    "First to get you familiarized with the combined coverage of these products run the next cell and play the Youtube video.\n",
    "\n",
    "\n"
   ]
  },
  {
   "cell_type": "code",
   "execution_count": null,
   "metadata": {},
   "outputs": [],
   "source": [
    "from IPython.lib.display import YouTubeVideo\n",
    "YouTubeVideo('jRB1OEDXXwY')"
   ]
  },
  {
   "cell_type": "code",
   "execution_count": 1,
   "metadata": {},
   "outputs": [
    {
     "data": {
      "application/vnd.jupyter.widget-view+json": {
       "model_id": "69a2371f742f44459bc76c78a695f5aa",
       "version_major": 2,
       "version_minor": 0
      },
      "text/plain": [
       "Dropdown(description='Hemisphere:', options=('south', 'north'), value='south')"
      ]
     },
     "metadata": {},
     "output_type": "display_data"
    }
   ],
   "source": [
    "import ipywidgets as widgets\n",
    "r = widgets.Dropdown(\n",
    "    options=['south', 'north'],\n",
    "    description='Hemisphere:',\n",
    "    disabled=False,\n",
    ")\n",
    "# Now let's pick up an hemisphere\n",
    "display(r)"
   ]
  },
  {
   "cell_type": "code",
   "execution_count": 2,
   "metadata": {},
   "outputs": [
    {
     "data": {
      "application/vnd.jupyter.widget-view+json": {
       "model_id": "8272dcb084d1459289b112210fcec5d2",
       "version_major": 2,
       "version_minor": 0
      },
      "text/plain": [
       "Dropdown(description='Dataset:', options=('ATM1B', 'GLAH06', 'ILVIS2'), value='ATM1B')"
      ]
     },
     "metadata": {},
     "output_type": "display_data"
    },
    {
     "data": {
      "application/vnd.jupyter.widget-view+json": {
       "model_id": "ee7cf910d301413cb6cea98c440ddfd2",
       "version_major": 2,
       "version_minor": 0
      },
      "text/plain": [
       "Dropdown(description='ITRF:', options=('', 'ITRF2000', 'ITRF2008', 'ITRF2014'), value='')"
      ]
     },
     "metadata": {},
     "output_type": "display_data"
    },
    {
     "data": {
      "application/vnd.jupyter.widget-view+json": {
       "model_id": "ff66d9787af44219aa9ad9dabba383f9",
       "version_major": 2,
       "version_minor": 0
      },
      "text/plain": [
       "SelectionRangeSlider(description='Date Range', index=(0, 9860), layout=Layout(width='100%'), options=((' 1993-…"
      ]
     },
     "metadata": {},
     "output_type": "display_data"
    },
    {
     "data": {
      "application/vnd.jupyter.widget-view+json": {
       "model_id": "7bb0734da70d42b99ace0649e62fbb91",
       "version_major": 2,
       "version_minor": 0
      },
      "text/plain": [
       "Map(center=[90, 0], controls=(ZoomControl(options=['position', 'zoom_in_text', 'zoom_in_title', 'zoom_out_text…"
      ]
     },
     "metadata": {},
     "output_type": "display_data"
    }
   ],
   "source": [
    "# The UI is encapsulated in this helper file, \n",
    "# if you see controls repeated try running the cell again: https://github.com/ipython-contrib/jupyter_contrib_nbextensions/issues/1056\n",
    "import valkyrie_utils as vu\n",
    "from ipyleaflet import (\n",
    "    Map,\n",
    "    Polygon,\n",
    "    GeoJSON,\n",
    "    DrawControl\n",
    ")\n",
    "\n",
    "dc = DrawControl(circlemarker={},\n",
    "                 polyline={},\n",
    "                 polygon={},\n",
    "                 rectangle = {\n",
    "                    \"shapeOptions\": {\n",
    "                        \"fillColor\": \"#fca45d\",\n",
    "                        \"color\": \"#fca45d\",\n",
    "                        \"fillOpacity\": 0.5\n",
    "                    }\n",
    "})\n",
    "h = vu.hemisphere[r.value]\n",
    "base_map = Map(\n",
    "        center=h['center'],\n",
    "        zoom=1,\n",
    "    max_zoom=18,\n",
    "    min_zoom=1,\n",
    "        basemap=h['base_map'],\n",
    "        crs=h['projection'])\n",
    "base_map.add_control(dc)\n",
    "display(vu.dataset, vu.ITRF, vu.date_range_slider, base_map)"
   ]
  },
  {
   "cell_type": "markdown",
   "metadata": {},
   "source": [
    "### Now that we have a dataset selected and we are contraining our search using a temporal range and polygon we can call the Valkyrie API\n",
    "\n",
    "> Note: Valkyrie uses Hermes, NSIDC's data ordering system."
   ]
  },
  {
   "cell_type": "code",
   "execution_count": null,
   "metadata": {},
   "outputs": [],
   "source": [
    "# Some reference dates for ATM missions are Aug-Dec 2014 in the Antarctic peninsula.\n",
    "# params = vu.build_params(dc)\n",
    "# print(vu.dataset.value, params,)\n",
    "dc.last_draw"
   ]
  },
  {
   "cell_type": "code",
   "execution_count": 3,
   "metadata": {},
   "outputs": [],
   "source": [
    "import json\n",
    "import os\n",
    "import requests\n",
    "\n",
    "def feature_info(event, **kwargs):\n",
    "    print(kwargs.get('feature'))\n",
    "    print('whats up')\n",
    "\n",
    "if not os.path.exists('europe_110.geo.json'):\n",
    "    url = 'https://github.com/jupyter-widgets/ipyleaflet/raw/master/examples/europe_110.geo.json'\n",
    "    r = requests.get(url)\n",
    "    with open('europe_110.geo.json', 'w') as f:\n",
    "        f.write(r.content.decode(\"utf-8\"))\n",
    "\n",
    "with open('europe_110.geo.json', 'r') as f:\n",
    "    data = json.load(f)\n",
    "geo_json = GeoJSON(data=data, style = {'color': 'green', 'opacity':1, 'weight':1, 'dashArray':'9', 'fillOpacity':0.1})\n",
    "\n",
    "base_map.add_layer(geo_json)\n",
    "\n",
    "geo_json.on_click(feature_info)"
   ]
  },
  {
   "cell_type": "markdown",
   "metadata": {},
   "source": [
    "## Sending a data order\n",
    "\n",
    "Now that we have our constraints we just need to post our order and wait for Valkyrie to fulfill it"
   ]
  },
  {
   "cell_type": "code",
   "execution_count": null,
   "metadata": {},
   "outputs": [],
   "source": [
    "import requests\n",
    "base_url = f'http://staging.valkyrie-vm.apps.nsidc.org/1.0/{vu.dataset.value}'\n",
    "response = requests.post(base_url, params=params)\n",
    "# now we are going to print the response from Valkyrie\n",
    "status_url = response.json()['status_url']\n",
    "print(status_url, response)"
   ]
  },
  {
   "cell_type": "code",
   "execution_count": null,
   "metadata": {},
   "outputs": [],
   "source": [
    "base_map"
   ]
  },
  {
   "cell_type": "markdown",
   "metadata": {},
   "source": [
    "## Downloading the data\n",
    "Let's get some coffee, some Valkyrie orders are in the Gigabytes real amd may take a little while to be processed. \n",
    "Once that your status URL says is completed we can grab the HDF5 data file using the URL on the same response!"
   ]
  },
  {
   "cell_type": "code",
   "execution_count": null,
   "metadata": {},
   "outputs": [],
   "source": [
    "order_status = requests.get(status_url).json()\n",
    "print(order_status)"
   ]
  },
  {
   "cell_type": "code",
   "execution_count": 19,
   "metadata": {},
   "outputs": [
    {
     "data": {
      "application/vnd.jupyter.widget-view+json": {
       "model_id": "2b573d096df0447cbbc60d741efa695b",
       "version_major": 2,
       "version_minor": 0
      },
      "text/plain": [
       "Map(center=[90, 0], controls=(ZoomControl(options=['position', 'zoom_in_text', 'zoom_in_title', 'zoom_out_text…"
      ]
     },
     "metadata": {},
     "output_type": "display_data"
    }
   ],
   "source": [
    "from ipyleaflet import Map, GeoJSON, projections, WMSLayer, basemaps\n",
    "import json\n",
    "import os\n",
    "import requests\n",
    "\n",
    "if not os.path.exists('europe_110.geo.json'):\n",
    "    url = 'https://github.com/jupyter-widgets/ipyleaflet/raw/master/examples/europe_110.geo.json'\n",
    "    r = requests.get(url)\n",
    "    with open('europe_110.geo.json', 'w') as f:\n",
    "        f.write(r.content.decode(\"utf-8\"))\n",
    "\n",
    "with open('europe_110.geo.json', 'r') as f:\n",
    "    data = json.load(f)\n",
    "\n",
    "# m = Map(center=(50.6252978589571, 0.34580993652344), zoom=0, crs=projections.EPSG3413)\n",
    "geo_json = GeoJSON(data=data, style = {'color': 'green', 'opacity':1, 'weight':1.9, 'dashArray':'9', 'fillOpacity':0.1})\n",
    "\n",
    "\n",
    "\n",
    "fixed_north = {\n",
    "    'name': 'EPSG:3413',\n",
    "    'custom': True, #This is important, it tells ipyleaflet that this projection is not on the predefined ones.\n",
    "    'proj4def': '+proj=stere +lat_0=90 +lat_ts=70 +lon_0=-45 +k=1 +x_0=0 +y_0=0 +datum=WGS84 +units=m +no_defs',\n",
    "    'origin': [-4194304, 4194304],\n",
    "    'bounds': [\n",
    "        [-4194304, -4194304],\n",
    "        [4194304, 4194304]   \n",
    "    ],\n",
    "    'resolutions': [\n",
    "        8192.0 * 2,\n",
    "        8192.0,\n",
    "        4096.0,\n",
    "        2048.0,\n",
    "        1024.0,\n",
    "        512.0,\n",
    "        256.0\n",
    "    ]\n",
    "}\n",
    "\n",
    "\n",
    "m2 = Map(center=(90, 0),\n",
    "        zoom=1,\n",
    "         max_zoom=5,\n",
    "         min_zoom=1,\n",
    "        basemap=basemaps.NASAGIBS.BlueMarble3413,\n",
    "        crs=fixed_north)\n",
    "\n",
    "\n",
    "dc2 = DrawControl(marker={'shapeOptions': {'color': '#0000FF'}})\n",
    "\n",
    "m2.add_control(dc2)\n",
    "m2.add_layer(geo_json)\n",
    "m2"
   ]
  }
 ],
 "metadata": {
  "kernelspec": {
   "display_name": "Python 3",
   "language": "python",
   "name": "python3"
  },
  "language_info": {
   "codemirror_mode": {
    "name": "ipython",
    "version": 3
   },
   "file_extension": ".py",
   "mimetype": "text/x-python",
   "name": "python",
   "nbconvert_exporter": "python",
   "pygments_lexer": "ipython3",
   "version": "3.7.6"
  }
 },
 "nbformat": 4,
 "nbformat_minor": 4
}
