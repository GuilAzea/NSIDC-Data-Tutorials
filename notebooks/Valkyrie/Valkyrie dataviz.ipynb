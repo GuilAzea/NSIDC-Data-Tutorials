{
 "cells": [
  {
   "cell_type": "markdown",
   "metadata": {},
   "source": [
    "## Big Data Visualization\n",
    "Valkyrie and Icesat 2 data are by nature big data sets that require some special considerations when working with it. The main constraint if you don't have a super computer is memory. The average granule size is in the 10s of MB for IceSat 2 and could be Gigabytes in Valkyrie depending on the order/subsetting. \n",
    "This is when libraries like Dask, Vaex and others come into play. This notebook will show you how to use some basic plotting techniques using both libraries to work effectively with lidar data from Valkyrie(IceBridge) and ATL data from IceSat 2.\n"
   ]
  },
  {
   "cell_type": "code",
   "execution_count": 2,
   "metadata": {},
   "outputs": [
    {
     "name": "stdout",
     "output_type": "stream",
     "text": [
      "CPU times: user 3.08 s, sys: 1.14 s, total: 4.22 s\n",
      "Wall time: 3.31 s\n"
     ]
    },
    {
     "data": {
      "text/html": [
       "<table>\n",
       "<thead>\n",
       "<tr><th>#                                    </th><th>azimuth  </th><th>elevation  </th><th>gps_pdop          </th><th>gps_time          </th><th>latitude  </th><th>longitude  </th><th>passive_footprint_latitude  </th><th>passive_footprint_longitude  </th><th>passive_footprint_synthesized_elevation  </th><th>passive_signal  </th><th>pitch  </th><th>pulse_width  </th><th>rcv_sigstr  </th><th>rel_time          </th><th>roll               </th><th>utc_datetime              </th><th>xmt_sigstr  </th><th>date                         </th><th>index    </th></tr>\n",
       "</thead>\n",
       "<tbody>\n",
       "<tr><td><i style='opacity: 0.6'>0</i>        </td><td>217.554  </td><td>786.135986 </td><td>2.7               </td><td>125130.719        </td><td>69.140261 </td><td>-48.969153 </td><td>0.0                         </td><td>0.0                          </td><td>0.0                                      </td><td>0               </td><td>2.309  </td><td>22           </td><td>2232        </td><td>267.507           </td><td>-3.416             </td><td>2016-05-16T12:51:13.719000</td><td>2532        </td><td>2016-05-16 12:51:13.719000000</td><td>0.0      </td></tr>\n",
       "<tr><td><i style='opacity: 0.6'>1</i>        </td><td>197.697  </td><td>790.546997 </td><td>2.7               </td><td>125130.765        </td><td>69.140006 </td><td>-48.968392 </td><td>0.0                         </td><td>0.0                          </td><td>0.0                                      </td><td>0               </td><td>2.313  </td><td>20           </td><td>1157        </td><td>267.553           </td><td>-3.432             </td><td>2016-05-16T12:51:13.765000</td><td>2365        </td><td>2016-05-16 12:51:13.765000000</td><td>1.0      </td></tr>\n",
       "<tr><td><i style='opacity: 0.6'>2</i>        </td><td>202.556  </td><td>793.505005 </td><td>2.7               </td><td>125130.766        </td><td>69.14005  </td><td>-48.968575 </td><td>0.0                         </td><td>0.0                          </td><td>0.0                                      </td><td>0               </td><td>2.313  </td><td>21           </td><td>1379        </td><td>267.55400000000003</td><td>-3.432             </td><td>2016-05-16T12:51:13.766000</td><td>2480        </td><td>2016-05-16 12:51:13.766000000</td><td>2.0      </td></tr>\n",
       "<tr><td><i style='opacity: 0.6'>3</i>        </td><td>200.127  </td><td>792.414001 </td><td>2.7               </td><td>125130.766        </td><td>69.140027 </td><td>-48.968483 </td><td>0.0                         </td><td>0.0                          </td><td>0.0                                      </td><td>0               </td><td>2.313  </td><td>25           </td><td>1766        </td><td>267.55400000000003</td><td>-3.432             </td><td>2016-05-16T12:51:13.766000</td><td>2579        </td><td>2016-05-16 12:51:13.766000000</td><td>3.0      </td></tr>\n",
       "<tr><td><i style='opacity: 0.6'>4</i>        </td><td>212.276  </td><td>795.609009 </td><td>2.7               </td><td>125130.767        </td><td>69.140154 </td><td>-48.968935 </td><td>0.0                         </td><td>0.0                          </td><td>0.0                                      </td><td>0               </td><td>2.313  </td><td>24           </td><td>1831        </td><td>267.555           </td><td>-3.4330000000000003</td><td>2016-05-16T12:51:13.767000</td><td>2700        </td><td>2016-05-16 12:51:13.767000000</td><td>4.0      </td></tr>\n",
       "<tr><td>...                                  </td><td>...      </td><td>...        </td><td>...               </td><td>...               </td><td>...       </td><td>...        </td><td>...                         </td><td>...                          </td><td>...                                      </td><td>...             </td><td>...    </td><td>...          </td><td>...         </td><td>...               </td><td>...                </td><td>...                       </td><td>...         </td><td>...                          </td><td>...      </td></tr>\n",
       "<tr><td><i style='opacity: 0.6'>6,676,303</i></td><td>332.262  </td><td>1048.177002</td><td>2.3000000000000003</td><td>152714.76200000002</td><td>68.843993 </td><td>-49.354151 </td><td>0.0                         </td><td>0.0                          </td><td>0.0                                      </td><td>0               </td><td>2.42   </td><td>19           </td><td>2093        </td><td>382.034           </td><td>-1.333             </td><td>2016-05-16T15:26:57.762000</td><td>2436        </td><td>2016-05-16 15:26:57.762000000</td><td>6676303.0</td></tr>\n",
       "<tr><td><i style='opacity: 0.6'>6,676,304</i></td><td>337.161  </td><td>1048.296021</td><td>2.3000000000000003</td><td>152714.76200000002</td><td>68.84405  </td><td>-49.354001 </td><td>0.0                         </td><td>0.0                          </td><td>0.0                                      </td><td>0               </td><td>2.42   </td><td>22           </td><td>3213        </td><td>382.034           </td><td>-1.333             </td><td>2016-05-16T15:26:57.762000</td><td>2754        </td><td>2016-05-16 15:26:57.762000000</td><td>6676304.0</td></tr>\n",
       "<tr><td><i style='opacity: 0.6'>6,676,305</i></td><td>344.512  </td><td>1048.343018</td><td>2.3000000000000003</td><td>152714.763        </td><td>68.844122 </td><td>-49.35375  </td><td>0.0                         </td><td>0.0                          </td><td>0.0                                      </td><td>0               </td><td>2.42   </td><td>20           </td><td>3401        </td><td>382.035           </td><td>-1.333             </td><td>2016-05-16T15:26:57.763000</td><td>2389        </td><td>2016-05-16 15:26:57.763000000</td><td>6676305.0</td></tr>\n",
       "<tr><td><i style='opacity: 0.6'>6,676,306</i></td><td>342.062  </td><td>1048.286011</td><td>2.3000000000000003</td><td>152714.763        </td><td>68.8441   </td><td>-49.353837 </td><td>0.0                         </td><td>0.0                          </td><td>0.0                                      </td><td>0               </td><td>2.42   </td><td>20           </td><td>3462        </td><td>382.035           </td><td>-1.333             </td><td>2016-05-16T15:26:57.763000</td><td>2291        </td><td>2016-05-16 15:26:57.763000000</td><td>6676306.0</td></tr>\n",
       "<tr><td><i style='opacity: 0.6'>6,676,307</i></td><td>339.611  </td><td>1048.255981</td><td>2.3000000000000003</td><td>152714.763        </td><td>68.844076 </td><td>-49.35392  </td><td>0.0                         </td><td>0.0                          </td><td>0.0                                      </td><td>0               </td><td>2.42   </td><td>20           </td><td>3479        </td><td>382.035           </td><td>-1.333             </td><td>2016-05-16T15:26:57.763000</td><td>2184        </td><td>2016-05-16 15:26:57.763000000</td><td>6676307.0</td></tr>\n",
       "</tbody>\n",
       "</table>"
      ],
      "text/plain": [
       "#          azimuth    elevation    gps_pdop            gps_time            latitude    longitude    passive_footprint_latitude    passive_footprint_longitude    passive_footprint_synthesized_elevation    passive_signal    pitch    pulse_width    rcv_sigstr    rel_time            roll                 utc_datetime                xmt_sigstr    date                           index\n",
       "0          217.554    786.135986   2.7                 125130.719          69.140261   -48.969153   0.0                           0.0                            0.0                                        0                 2.309    22             2232          267.507             -3.416               2016-05-16T12:51:13.719000  2532          2016-05-16 12:51:13.719000000  0.0\n",
       "1          197.697    790.546997   2.7                 125130.765          69.140006   -48.968392   0.0                           0.0                            0.0                                        0                 2.313    20             1157          267.553             -3.432               2016-05-16T12:51:13.765000  2365          2016-05-16 12:51:13.765000000  1.0\n",
       "2          202.556    793.505005   2.7                 125130.766          69.14005    -48.968575   0.0                           0.0                            0.0                                        0                 2.313    21             1379          267.55400000000003  -3.432               2016-05-16T12:51:13.766000  2480          2016-05-16 12:51:13.766000000  2.0\n",
       "3          200.127    792.414001   2.7                 125130.766          69.140027   -48.968483   0.0                           0.0                            0.0                                        0                 2.313    25             1766          267.55400000000003  -3.432               2016-05-16T12:51:13.766000  2579          2016-05-16 12:51:13.766000000  3.0\n",
       "4          212.276    795.609009   2.7                 125130.767          69.140154   -48.968935   0.0                           0.0                            0.0                                        0                 2.313    24             1831          267.555             -3.4330000000000003  2016-05-16T12:51:13.767000  2700          2016-05-16 12:51:13.767000000  4.0\n",
       "...        ...        ...          ...                 ...                 ...         ...          ...                           ...                            ...                                        ...               ...      ...            ...           ...                 ...                  ...                         ...           ...                            ...\n",
       "6,676,303  332.262    1048.177002  2.3000000000000003  152714.76200000002  68.843993   -49.354151   0.0                           0.0                            0.0                                        0                 2.42     19             2093          382.034             -1.333               2016-05-16T15:26:57.762000  2436          2016-05-16 15:26:57.762000000  6676303.0\n",
       "6,676,304  337.161    1048.296021  2.3000000000000003  152714.76200000002  68.84405    -49.354001   0.0                           0.0                            0.0                                        0                 2.42     22             3213          382.034             -1.333               2016-05-16T15:26:57.762000  2754          2016-05-16 15:26:57.762000000  6676304.0\n",
       "6,676,305  344.512    1048.343018  2.3000000000000003  152714.763          68.844122   -49.35375    0.0                           0.0                            0.0                                        0                 2.42     20             3401          382.035             -1.333               2016-05-16T15:26:57.763000  2389          2016-05-16 15:26:57.763000000  6676305.0\n",
       "6,676,306  342.062    1048.286011  2.3000000000000003  152714.763          68.8441     -49.353837   0.0                           0.0                            0.0                                        0                 2.42     20             3462          382.035             -1.333               2016-05-16T15:26:57.763000  2291          2016-05-16 15:26:57.763000000  6676306.0\n",
       "6,676,307  339.611    1048.255981  2.3000000000000003  152714.763          68.844076   -49.35392    0.0                           0.0                            0.0                                        0                 2.42     20             3479          382.035             -1.333               2016-05-16T15:26:57.763000  2184          2016-05-16 15:26:57.763000000  6676307.0"
      ]
     },
     "execution_count": 2,
     "metadata": {},
     "output_type": "execute_result"
    }
   ],
   "source": [
    "%%time\n",
    "import vaex\n",
    "from datetime import date\n",
    "df = vaex.open('data/atm1b_data_2020-07-11T20-39.hdf5')\n",
    "# We're parsing the utc_datetime from Valkyrie into a data type that Vaex understands.\n",
    "df['date'] = df.utc_datetime.values.astype('datetime64[ns]')\n",
    "# vaex.vrange() is like numpy.arange but uses 0-memory no matter the length.\n",
    "df.add_column('index', vaex.vrange(0, len(df)))\n",
    "# We are going to create a \"decimated\" dataframe with only 1/100 of the size of the original to plot the big picture faster.\n",
    "df_decimated = df[(df.index % 100 == 0)]\n",
    "df"
   ]
  },
  {
   "cell_type": "code",
   "execution_count": null,
   "metadata": {},
   "outputs": [],
   "source": [
    "df.describe()"
   ]
  },
  {
   "cell_type": "code",
   "execution_count": null,
   "metadata": {},
   "outputs": [],
   "source": [
    "df.widget.heatmap(df.longitude, \n",
    "               df.latitude,\n",
    "               what=vaex.stat.mean(df.elevation),\n",
    "               shape=1024, \n",
    "               limits='minmax',\n",
    "               colormap='plasma')"
   ]
  },
  {
   "cell_type": "code",
   "execution_count": null,
   "metadata": {},
   "outputs": [],
   "source": [
    "# import ipyvolume as ipv\n",
    "%matplotlib widget\n",
    "import vaex\n",
    "import ipyvolume as ipv\n",
    "import vaex.jupyter\n",
    "from ipywidgets import widgets\n",
    "import matplotlib.pyplot as plt\n",
    "import h5py\n",
    "import cartopy.crs as ccrs\n",
    "# fs = h5py.File('data/atm1b_data_2020-07-11T20-39.hdf5')\n",
    "\n",
    "df_all = vaex.open('data/atm1b_data_2020-07-11T20-39.hdf5')\n",
    "df_all.add_column('index', vaex.vrange(0, len(df_all)))   # vaex.vrange() is like numpy.arange but uses 0-memory no matter the length.\n",
    "df = df_all[(df_all.index % 100 == 0)]\n",
    "\n",
    "\n",
    "plt.figure(figsize=(10,8), dpi= 90)\n",
    "ax = plt.axes(projection=ccrs.NorthPolarStereo(central_longitude=0)) \n",
    "ax.coastlines(resolution='50m', color='black', linewidth=1)\n",
    "ax.set_extent([-60, -40, 60, 90], ccrs.PlateCarree())\n",
    "plt.scatter(df.longitude.values, df.latitude.values,c=df.elevation.values, cmap='viridis', vmin=100,vmax=1000,transform=ccrs.PlateCarree())#plt.cm.get_cmap('RdYlGn').reversed()\n",
    "plt.colorbar(label='elevation', shrink=0.5,extend='both')\n",
    "plt.show()"
   ]
  },
  {
   "cell_type": "code",
   "execution_count": null,
   "metadata": {},
   "outputs": [],
   "source": [
    "df.select(df)"
   ]
  },
  {
   "cell_type": "code",
   "execution_count": null,
   "metadata": {},
   "outputs": [],
   "source": [
    "import vaex\n",
    "import ipyvolume as ipv\n",
    "import vaex.jupyter\n",
    "%matplotlib inline\n",
    "\n",
    "df = vaex.open('data/atm1b_data_2020-07-11T20-39.hdf5')\n",
    "df.plot( 'longitude', 'latitude', what=vaex.stat.mean(df.elevation), figsize=(12,8))"
   ]
  },
  {
   "cell_type": "code",
   "execution_count": null,
   "metadata": {},
   "outputs": [],
   "source": [
    "%matplotlib widget\n",
    "from ipywidgets import widgets\n",
    "from ipywidgets import interact, interactive, fixed\n",
    "from mpl_toolkits.mplot3d import Axes3D\n",
    "import matplotlib.pyplot as plt\n",
    "\n",
    "\n",
    "fig = plt.figure(figsize=(10,6))\n",
    "ax = fig.add_subplot(111, projection='3d')\n",
    "ax.view_init(70, 70)\n",
    "\n",
    "def plot_func(freq):\n",
    "    print(freq)\n",
    "    step = 1000\n",
    "    m = int(freq * step)\n",
    "    ax.clear()\n",
    "    ax.scatter(df.longitude.values[m:m+step],\n",
    "               df.latitude.values[m:m+step],\n",
    "               df.elevation.values[m:m+step],\n",
    "               c=df.elevation.values[m:m+step],\n",
    "               cmap='viridis', s=1)\n",
    "    ax.axis('tight')\n",
    "    \n",
    "    \n",
    "\n",
    "interact(plot_func, freq = widgets.FloatSlider(value=0,\n",
    "                                               min=0,\n",
    "                                               max=60,\n",
    "                                               step=0.3,\n",
    "                                               layout={'width': '100%'}))"
   ]
  }
 ],
 "metadata": {
  "kernelspec": {
   "display_name": "Python 3",
   "language": "python",
   "name": "python3"
  },
  "language_info": {
   "codemirror_mode": {
    "name": "ipython",
    "version": 3
   },
   "file_extension": ".py",
   "mimetype": "text/x-python",
   "name": "python",
   "nbconvert_exporter": "python",
   "pygments_lexer": "ipython3",
   "version": "3.7.6"
  }
 },
 "nbformat": 4,
 "nbformat_minor": 4
}
