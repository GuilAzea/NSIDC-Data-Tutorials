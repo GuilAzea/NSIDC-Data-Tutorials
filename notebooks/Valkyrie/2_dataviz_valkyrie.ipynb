{
 "cells": [
  {
   "cell_type": "markdown",
   "metadata": {},
   "source": [
    "## Big Data Visualization\n",
    "Valkyrie and Icesat 2 data are by nature big data sets that require some special considerations when working with it. The main constraint if you don't have a super computer is memory. The average granule size is in the 10s of MB for IceSat 2 and could be Gigabytes in Valkyrie depending on the order/subsetting. \n",
    "This is when libraries like Dask, Vaex and others come into play. This notebook will show you how to use some basic plotting techniques using both libraries to work effectively with lidar data from Valkyrie(IceBridge) and ATL data from IceSat 2.\n"
   ]
  },
  {
   "cell_type": "code",
   "execution_count": null,
   "metadata": {},
   "outputs": [],
   "source": [
    "%%time\n",
    "import vaex\n",
    "from datetime import date\n",
    "df = vaex.open('data/atm1b_data_2020-07-11T20-39.hdf5')\n",
    "# We're parsing the utc_datetime from Valkyrie into a data type that Vaex understands.\n",
    "df['date'] = df.utc_datetime.values.astype('datetime64[ns]')\n",
    "# vaex.vrange() is like numpy.arange but uses 0-memory no matter the length.\n",
    "df.add_column('index', vaex.vrange(0, len(df)))\n",
    "# We are going to create a \"decimated\" dataframe with only 1/100 of the size of the original to plot the big picture faster.\n",
    "df_decimated = df[(df.index % 100 == 0)]\n",
    "df"
   ]
  },
  {
   "cell_type": "code",
   "execution_count": null,
   "metadata": {},
   "outputs": [],
   "source": []
  },
  {
   "cell_type": "code",
   "execution_count": null,
   "metadata": {},
   "outputs": [],
   "source": [
    "df.describe()"
   ]
  },
  {
   "cell_type": "markdown",
   "metadata": {},
   "source": [
    "## Visualizing the big picture"
   ]
  },
  {
   "cell_type": "code",
   "execution_count": null,
   "metadata": {},
   "outputs": [],
   "source": [
    "df.widget.heatmap(df.longitude, \n",
    "               df.latitude,\n",
    "               what=vaex.stat.mean(df.elevation),\n",
    "               shape=512, \n",
    "               figsize=(10,6),\n",
    "               limits='minmax',\n",
    "               colormap='plasma')"
   ]
  },
  {
   "cell_type": "code",
   "execution_count": null,
   "metadata": {},
   "outputs": [],
   "source": [
    "%matplotlib widget\n",
    "import vaex\n",
    "from ipywidgets import widgets\n",
    "import matplotlib.pyplot as plt\n",
    "import cartopy.crs as ccrs\n",
    "\n",
    "plt.figure(figsize=(10,8), dpi= 90)\n",
    "ax = plt.axes(projection=ccrs.NorthPolarStereo(central_longitude=0)) \n",
    "ax.coastlines(resolution='50m', color='black', linewidth=1)\n",
    "ax.set_extent([-50, -40, 60, 90], ccrs.PlateCarree())\n",
    "plt.scatter(df_decimated.longitude.values,\n",
    "            df_decimated.latitude.values,\n",
    "            c=df_decimated.elevation.values,\n",
    "            cmap='viridis',\n",
    "            vmin=100,vmax=1000,\n",
    "            transform=ccrs.PlateCarree())\n",
    "plt.colorbar(label='elevation', shrink=0.5,extend='both')"
   ]
  },
  {
   "cell_type": "code",
   "execution_count": null,
   "metadata": {},
   "outputs": [],
   "source": [
    "%matplotlib widget\n",
    "from ipywidgets import widgets\n",
    "from ipywidgets import interact, interactive, fixed\n",
    "from mpl_toolkits.mplot3d import Axes3D\n",
    "import matplotlib.pyplot as plt\n",
    "\n",
    "\n",
    "fig = plt.figure(figsize=(10,6))\n",
    "ax = fig.add_subplot(111, projection='3d')\n",
    "ax.view_init(70, 70)\n",
    "\n",
    "def plot_func(alontrack):\n",
    "    step = 5000 # same as density\n",
    "    m = int(alontrack * step)\n",
    "    ax.clear()\n",
    "    ax.scatter(df.longitude.values[m:m+step],\n",
    "               df.latitude.values[m:m+step],\n",
    "               df.elevation.values[m:m+step],\n",
    "               c=df.elevation.values[m:m+step],\n",
    "               cmap='viridis', s=1)\n",
    "    ax.axis('tight')\n",
    "    \n",
    "    \n",
    "\n",
    "interact(plot_func, alontrack = widgets.FloatSlider(value=0,\n",
    "                                                    description='Along Track Steps',\n",
    "                                                    min=0,\n",
    "                                                    max=90,\n",
    "                                                    step=0.3,\n",
    "                                                    layout={'width': '100%'}))"
   ]
  }
 ],
 "metadata": {
  "kernelspec": {
   "display_name": "Python 3",
   "language": "python",
   "name": "python3"
  },
  "language_info": {
   "codemirror_mode": {
    "name": "ipython",
    "version": 3
   },
   "file_extension": ".py",
   "mimetype": "text/x-python",
   "name": "python",
   "nbconvert_exporter": "python",
   "pygments_lexer": "ipython3",
   "version": "3.7.8"
  }
 },
 "nbformat": 4,
 "nbformat_minor": 4
}
