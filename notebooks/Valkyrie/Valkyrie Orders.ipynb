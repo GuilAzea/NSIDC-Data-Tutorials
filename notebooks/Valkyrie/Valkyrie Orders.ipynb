{
 "cells": [
  {
   "cell_type": "markdown",
   "metadata": {},
   "source": [
    "# Valkyrie Data Access\n",
    "\n",
    "\n",
    "\n",
    "The Valkyrie project provides web services for ordering spatially and temporally subsetted Lidar point cloud data from the BLATM L1B, ILATM L1B Version 1, ILATM L1B Version 2 and the ILVIS2 data products. The following table describes the temporal and spatial coverage of each of these dataset as well as the sensor and platform used to acquire the data.\n",
    "\n",
    "\n",
    "---\n",
    "\n",
    "|              | Spatial Coverage                                                      | Temporal Coverage                              | Platform                                              | Sensor                   |\n",
    "|--------------|-----------------------------------------------------------------------|------------------------------------------------|-------------------------------------------------------|--------------------------|\n",
    "| BLATM L1B    | South: N:-53, S: -90, E:180, W:-180 North: N:90, S: 60, E:180, W:-180 | 23 June 1993 - 30 October 2008                 | DC-8, DHC-6, P-3A ORION, P-3B                         | ATM                      |\n",
    "| ILATM L1B V1 | South: N:-53, S: -90, E:180, W:-180 North: N:90, S: 60, E:180, W:-180 | 31 March 2009 - 8 November 2012 (updated 2013) | AIRCRAFT, DC-8, P-3B                                  | ATM                      |\n",
    "| ILATM L1B V2 | South: N:-53, S: -90, E:180, W:-180 North: N:90, S: 60, E:180, W:-180 | 20 March 2013 - 16 May 2019 (updated 2020)     | C-130, DC-8, HU-25A, HU-25C, P-3B, WP-3D ORION        | ATM                      |\n",
    "| ILVIS2       | North: N:90, S: 60, E:180, W:-180                                     | 25 August 2017 - 20 September 2017             | AIRCRAFT, B-200, C-130, DC-8, G-V, HU-25C, P-3B, RQ-4 | ALTIMETERS, LASERS, LVIS |\n",
    "| GLAH06       | Global: N:86, S: -86, E:180, W:-180                                     |     20 February 2003 - 11 October 2009        | IceSat | ALTIMETERS, CD, GLAS, GPS, GPS Receiver, LA, PC\n",
    "\n",
    "\n",
    "--- \n",
    "\n",
    "> Note: If you have any qustions about the data please contact NSIDC user services at users@nsidc.org\n",
    "\n",
    "In this tutorial we are going to use iPyLeaflet and other Jupyter widgets to select our constraints and put a data request to our Valkyrie API.\n",
    "\n",
    "First to get you familiarized with the combined coverage of these products run the next cell and play the Youtube video.\n",
    "\n",
    "\n"
   ]
  },
  {
   "cell_type": "code",
   "execution_count": null,
   "metadata": {},
   "outputs": [],
   "source": [
    "from IPython.lib.display import YouTubeVideo\n",
    "YouTubeVideo('jRB1OEDXXwY')"
   ]
  },
  {
   "cell_type": "code",
   "execution_count": null,
   "metadata": {},
   "outputs": [],
   "source": [
    "import ipywidgets as widgets\n",
    "r = widgets.Dropdown(\n",
    "    options=['south', 'north'],\n",
    "    description='Hemisphere:',\n",
    "    disabled=False,\n",
    ")\n",
    "# Now let's pick up an hemisphere\n",
    "display(r)"
   ]
  },
  {
   "cell_type": "code",
   "execution_count": null,
   "metadata": {},
   "outputs": [],
   "source": [
    "# The UI is encapsulated in this helper file, \n",
    "# if you see controls repeated try running the cell again: https://github.com/ipython-contrib/jupyter_contrib_nbextensions/issues/1056\n",
    "import valkyrie_utils as vu\n",
    "from ipyleaflet import (\n",
    "    Map,\n",
    "    Polygon,\n",
    "    DrawControl\n",
    ")\n",
    "\n",
    "dc = DrawControl(circlemarker={},\n",
    "                 polyline={},\n",
    "                 polygon={},\n",
    "                 rectangle = {\n",
    "                    \"shapeOptions\": {\n",
    "                        \"fillColor\": \"#fca45d\",\n",
    "                        \"color\": \"#fca45d\",\n",
    "                        \"fillOpacity\": 0.5\n",
    "                    }\n",
    "})\n",
    "h = vu.hemisphere[r.value]\n",
    "base_map = Map(\n",
    "        center=h['center'],\n",
    "        zoom=1,\n",
    "        basemap=h['base_map'],\n",
    "        crs=h['projection'])\n",
    "base_map.add_control(dc)\n",
    "display(vu.dataset, vu.ITRF, vu.date_range_slider, base_map)"
   ]
  },
  {
   "cell_type": "markdown",
   "metadata": {},
   "source": [
    "### Now that we have a dataset selected and we are contraining our search using a temporal range and polygon we can call the Valkyrie API\n",
    "\n",
    "> Note: Valkyrie uses Hermes, NSIDC's data ordering system."
   ]
  },
  {
   "cell_type": "code",
   "execution_count": null,
   "metadata": {},
   "outputs": [],
   "source": [
    "# Some reference dates for ATM missions are Aug-Dec 2014 in the Antarctic peninsula.\n",
    "params = vu.build_params(dc)\n",
    "print(vu.dataset.value, params,)"
   ]
  },
  {
   "cell_type": "markdown",
   "metadata": {},
   "source": [
    "## Sending a data order\n",
    "\n",
    "Now that we have our constraints we just need to post our order and wait for Valkyrie to fulfill it"
   ]
  },
  {
   "cell_type": "code",
   "execution_count": null,
   "metadata": {},
   "outputs": [],
   "source": [
    "import requests\n",
    "base_url = f'http://staging.valkyrie-vm.apps.nsidc.org/1.0/{vu.dataset.value}'\n",
    "response = requests.post(base_url, params=params)\n",
    "# now we are going to print the response from Valkyrie\n",
    "status_url = response.json()['status_url']\n",
    "print(status_url, response)"
   ]
  },
  {
   "cell_type": "markdown",
   "metadata": {},
   "source": [
    "## Downloading the data\n",
    "Let's get some coffee, some Valkyrie orders are in the Gigabytes real amd may take a little while to be processed. \n",
    "Once that your status URL says is completed we can grab the HDF5 data file using the URL on the same response!"
   ]
  },
  {
   "cell_type": "code",
   "execution_count": null,
   "metadata": {},
   "outputs": [],
   "source": [
    "order_status = requests.get(status_url).json()\n",
    "print(order_status)"
   ]
  }
 ],
 "metadata": {
  "kernelspec": {
   "display_name": "Python 3",
   "language": "python",
   "name": "python3"
  },
  "language_info": {
   "codemirror_mode": {
    "name": "ipython",
    "version": 3
   },
   "file_extension": ".py",
   "mimetype": "text/x-python",
   "name": "python",
   "nbconvert_exporter": "python",
   "pygments_lexer": "ipython3",
   "version": "3.7.6"
  }
 },
 "nbformat": 4,
 "nbformat_minor": 4
}
