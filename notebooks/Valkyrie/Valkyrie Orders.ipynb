{
 "cells": [
  {
   "cell_type": "markdown",
   "metadata": {},
   "source": [
    "\n",
    "<img src='./img/nsidc_logo.png'/>\n",
    "\n",
    "## NSIDC Valkyrie : Point Cloud Data Access\n",
    "\n",
    "\n",
    "The Valkyrie project provides web services for ordering spatially and temporally subsetted Lidar point cloud data from the [BLATM L1B](https://nsidc.org/data/BLATM1B), [ILATM L1B v1](https://nsidc.org/data/ilatm1b/versions/1), [ILATM L1B V2](https://nsidc.org/data/ILATM1B), [ILVIS2](https://nsidc.org/data/ILVIS2) and [IceSat GLAH06](https://nsidc.org/data/GLAH06/) data products. The following table describes the temporal and spatial coverage of each of these dataset as well as the sensor and platform used to acquire the data.\n",
    "\n",
    "\n",
    "---\n",
    "\n",
    "|              | Spatial Coverage                                                      | Temporal Coverage                              | Platform                                              | Sensor                   |\n",
    "|--------------|-----------------------------------------------------------------------|------------------------------------------------|-------------------------------------------------------|--------------------------|\n",
    "| BLATM L1B    | South: N:-53, S: -90, E:180, W:-180 North: N:90, S: 60, E:180, W:-180 | 23 June 1993 - 30 October 2008                 | DC-8, DHC-6, P-3A ORION, P-3B                         | ATM                      |\n",
    "| ILATM L1B V1 | South: N:-53, S: -90, E:180, W:-180 North: N:90, S: 60, E:180, W:-180 | 31 March 2009 - 8 November 2012 (updated 2013) | AIRCRAFT, DC-8, P-3B                                  | ATM                      |\n",
    "| ILATM L1B V2 | South: N:-53, S: -90, E:180, W:-180 North: N:90, S: 60, E:180, W:-180 | 20 March 2013 - 16 May 2019 (updated 2020)     | C-130, DC-8, HU-25A, HU-25C, P-3B, WP-3D ORION        | ATM                      |\n",
    "| ILVIS2       | North: N:90, S: 60, E:180, W:-180                                     | 25 August 2017 - 20 September 2017             | AIRCRAFT, B-200, C-130, DC-8, G-V, HU-25C, P-3B, RQ-4 | ALTIMETERS, LASERS, LVIS |\n",
    "| GLAH06       | Global: N:86, S: -86, E:180, W:-180                                     |     20 February 2003 - 11 October 2009        | IceSat | ALTIMETERS, CD, GLAS, GPS, GPS Receiver, LA, PC\n",
    "\n",
    "\n",
    "--- \n",
    "\n",
    "> Note: If you have any qustions about the data please contact NSIDC user services at users@nsidc.org\n",
    "\n",
    "In this tutorial we are going to use iPyLeaflet and other Jupyter widgets to select our constraints and put a data request to our Valkyrie API.\n",
    "\n",
    "First to get you familiarized with the combined coverage of these products run the next cell and play the Youtube video.\n",
    "\n",
    "\n"
   ]
  },
  {
   "cell_type": "code",
   "execution_count": null,
   "metadata": {},
   "outputs": [],
   "source": [
    "from IPython.lib.display import YouTubeVideo\n",
    "YouTubeVideo('jRB1OEDXXwY')"
   ]
  },
  {
   "cell_type": "markdown",
   "metadata": {},
   "source": [
    "## NASA's EarthData Credentials\n",
    "\n",
    "The first step to start working with Valkyrie data is to login into the NASA's Earth Data system. The output will be shown in the logs window.\n",
    "\n",
    "We are going to use a user interface to build the parameters we need to post data orders to Valkyrie but this can be done in your own programmatic way, please refer to the Valkyrie documentation or the NSIDC Swagger [OpenAPI documentation](https://staging.nsidc.org/apps/orders/api/).\n",
    "\n"
   ]
  },
  {
   "cell_type": "code",
   "execution_count": null,
   "metadata": {},
   "outputs": [],
   "source": [
    "# We import our Valkyrie client library\n",
    "from valkyrie import valkyrie_ui as valkyrie\n",
    "# We instantiate our interface telling which map projection we want to start.\n",
    "# the Valid values are: global, south, north\n",
    "v = valkyrie('north')\n",
    "# Now we enter our NASA Earth Data Credentials and verify that they work.\n",
    "# If you are using Jupyter Lab you can see the output in the logs window.\n",
    "v.render_credentials()"
   ]
  },
  {
   "cell_type": "markdown",
   "metadata": {},
   "source": [
    "We are going to render the user interface, if you change the hemisphere you need to execute this cell again.\n",
    "This user interface uses [ipylaflet](https://blog.jupyter.org/interactive-gis-in-jupyter-with-ipyleaflet-52f9657fa7a) which allows us to draw\n",
    "polygons or bounding boxes for our area selection. We can also edit and delete these geometries using the the widget controls in the map.\n",
    "\n",
    "The **\"Get Granule Count\"** button will query [NASA's CMR](https://earthdata.nasa.gov/eosdis/science-system-description/eosdis-components/cmr) to get a granule count for the current parameters, we need to have a geometry and one or more datasets selected.\n",
    "\n",
    "> **Notes**: \n",
    "> * If you use the bounding box geometry in a polar projection you'll notice a distortion due the nature of polar coordinates, if you prefer you can use the global mercator map to draw a bounding box without aparent distortion. Polygons are probably a beter idea or you can even input your own coordinates as we'll see later.\n",
    "> * The calculated download size of these granules is an upper bound since Valkyrie allows us to subset the data. \n"
   ]
  },
  {
   "cell_type": "code",
   "execution_count": null,
   "metadata": {},
   "outputs": [],
   "source": [
    "v.render()"
   ]
  },
  {
   "cell_type": "code",
   "execution_count": null,
   "metadata": {},
   "outputs": [],
   "source": [
    "# Print the granule counts from CMR for our current search params\n",
    "params = v.build_params()\n",
    "params"
   ]
  },
  {
   "cell_type": "code",
   "execution_count": null,
   "metadata": {},
   "outputs": [],
   "source": [
    "# We can also query CMR to get an idea of coverages for the area we just selected\n",
    "v.build_params()\n",
    "granules = v.query_cmr(None)\n",
    "for dataset in granules:\n",
    "    size = round(sum(float(g['granule_size']) for g in granules[dataset]), 2)\n",
    "    print(f'{dataset}: {len(granules[dataset])} granules found. Approx download size: {size} MB')"
   ]
  },
  {
   "cell_type": "code",
   "execution_count": null,
   "metadata": {},
   "outputs": [],
   "source": [
    "## We can print the first record for a given dataset\n",
    "dataset = 'ILATM1B'\n",
    "if len(granules[dataset])>0:\n",
    "    print(granules[dataset][0])"
   ]
  },
  {
   "cell_type": "markdown",
   "metadata": {},
   "source": [
    "## Placing a data order\n",
    "\n",
    "Now that we have our constraints we just need to post our order and wait for Valkyrie to fulfill it. \n",
    "We can put an order directly, in this case we are going to work on a geometry that overlaps with [Jakobshavn](https://en.wikipedia.org/wiki/Jakobshavn_Glacier) glacier in Greenland.\n"
   ]
  },
  {
   "cell_type": "code",
   "execution_count": null,
   "metadata": {},
   "outputs": [],
   "source": [
    "# note that we are explicitly using the name of one of the ATM datasets\n",
    "dataset = 'ILATM1B'\n",
    "my_params ={\n",
    "    'dataset': dataset,\n",
    "    'start': '2016-01-01',\n",
    "    'end': '2016-12-31',\n",
    "    'bbox': '-50.221637,69.095798,-49.164471,69.29418'\n",
    "}\n",
    "order = v.post_valkyrie_order(my_params)\n",
    "order"
   ]
  },
  {
   "cell_type": "markdown",
   "metadata": {},
   "source": [
    "## Downloading the data\n",
    "Let's get some coffee, some Valkyrie orders are in the Gigabytes real amd may take a little while to be processed. \n",
    "Once that your status URL says is completed we can grab the HDF5 data file using the URL on the same response!"
   ]
  },
  {
   "cell_type": "code",
   "execution_count": null,
   "metadata": {},
   "outputs": [],
   "source": [
    "order['response'].json()"
   ]
  },
  {
   "cell_type": "code",
   "execution_count": null,
   "metadata": {},
   "outputs": [],
   "source": [
    "import requests\n",
    "my_order_status = order['response'].json()['status_url']\n",
    "order_status = requests.get(my_order_status).json()\n",
    "order_status"
   ]
  },
  {
   "cell_type": "markdown",
   "metadata": {},
   "source": [
    "## Placing multiple data orders to Valkyrie"
   ]
  },
  {
   "cell_type": "code",
   "execution_count": null,
   "metadata": {},
   "outputs": [],
   "source": [
    "# Or we can use the interface to put our order based in the current map selection and control values.\n",
    "orders = v.post_orders()\n",
    "orders"
   ]
  }
 ],
 "metadata": {
  "kernelspec": {
   "display_name": "Python 3",
   "language": "python",
   "name": "python3"
  },
  "language_info": {
   "codemirror_mode": {
    "name": "ipython",
    "version": 3
   },
   "file_extension": ".py",
   "mimetype": "text/x-python",
   "name": "python",
   "nbconvert_exporter": "python",
   "pygments_lexer": "ipython3",
   "version": "3.7.6"
  }
 },
 "nbformat": 4,
 "nbformat_minor": 4
}
