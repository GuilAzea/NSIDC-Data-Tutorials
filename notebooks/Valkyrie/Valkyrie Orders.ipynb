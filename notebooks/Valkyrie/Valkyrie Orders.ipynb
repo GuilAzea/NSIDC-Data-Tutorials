{
 "cells": [
  {
   "cell_type": "markdown",
   "metadata": {},
   "source": [
    "# NSIDC Valkyrie  ![nsidc]('img/nsidc_logo.png')\n",
    "## Point Cloud Data Access\n",
    "\n",
    "\n",
    "The Valkyrie project provides web services for ordering spatially and temporally subsetted Lidar point cloud data from the [BLATM L1B](https://nsidc.org/data/BLATM1B), [ILATM L1B v1](https://nsidc.org/data/ilatm1b/versions/1), [ILATM L1B V2](https://nsidc.org/data/ILATM1B), [ILVIS2](https://nsidc.org/data/ILVIS2) and [IceSat GLAH06](https://nsidc.org/data/GLAH06/) data products. The following table describes the temporal and spatial coverage of each of these dataset as well as the sensor and platform used to acquire the data.\n",
    "\n",
    "\n",
    "---\n",
    "\n",
    "|              | Spatial Coverage                                                      | Temporal Coverage                              | Platform                                              | Sensor                   |\n",
    "|--------------|-----------------------------------------------------------------------|------------------------------------------------|-------------------------------------------------------|--------------------------|\n",
    "| BLATM L1B    | South: N:-53, S: -90, E:180, W:-180 North: N:90, S: 60, E:180, W:-180 | 23 June 1993 - 30 October 2008                 | DC-8, DHC-6, P-3A ORION, P-3B                         | ATM                      |\n",
    "| ILATM L1B V1 | South: N:-53, S: -90, E:180, W:-180 North: N:90, S: 60, E:180, W:-180 | 31 March 2009 - 8 November 2012 (updated 2013) | AIRCRAFT, DC-8, P-3B                                  | ATM                      |\n",
    "| ILATM L1B V2 | South: N:-53, S: -90, E:180, W:-180 North: N:90, S: 60, E:180, W:-180 | 20 March 2013 - 16 May 2019 (updated 2020)     | C-130, DC-8, HU-25A, HU-25C, P-3B, WP-3D ORION        | ATM                      |\n",
    "| ILVIS2       | North: N:90, S: 60, E:180, W:-180                                     | 25 August 2017 - 20 September 2017             | AIRCRAFT, B-200, C-130, DC-8, G-V, HU-25C, P-3B, RQ-4 | ALTIMETERS, LASERS, LVIS |\n",
    "| GLAH06       | Global: N:86, S: -86, E:180, W:-180                                     |     20 February 2003 - 11 October 2009        | IceSat | ALTIMETERS, CD, GLAS, GPS, GPS Receiver, LA, PC\n",
    "\n",
    "\n",
    "--- \n",
    "\n",
    "> Note: If you have any qustions about the data please contact NSIDC user services at users@nsidc.org\n",
    "\n",
    "In this tutorial we are going to use iPyLeaflet and other Jupyter widgets to select our constraints and put a data request to our Valkyrie API.\n",
    "\n",
    "First to get you familiarized with the combined coverage of these products run the next cell and play the Youtube video.\n",
    "\n",
    "\n"
   ]
  },
  {
   "cell_type": "code",
   "execution_count": null,
   "metadata": {},
   "outputs": [],
   "source": [
    "from IPython.lib.display import YouTubeVideo\n",
    "YouTubeVideo('jRB1OEDXXwY')"
   ]
  },
  {
   "cell_type": "markdown",
   "metadata": {},
   "source": [
    "## NASA's EarthData Credentials\n",
    "\n",
    "The first step to start working with Valkyrie data is to login to NASA's Earth Data system using the following link: \n",
    "[NASA Earth Data Login](https://staging.hermes.apps.int.nsidc.org/api/earthdata/auth/)\n",
    "\n",
    "To make sure you are logged in let's inspect the NSIDC data ordering system. You should get back your username and other details from this link, if you get 'anonymous' then you are still not logged in.\n",
    "\n",
    "[NSIDC User Information](https://staging.hermes.apps.int.nsidc.org/api/user/)\n",
    "\n",
    "\n",
    "We are going to use a user interface to build the parameters we need to post data orders to Valkyrie but this can be done in your own programmatic way, please refer to the Valkyrie documentation or the NSIDC Swagger OpenAPI documentation\n",
    "\n"
   ]
  },
  {
   "cell_type": "code",
   "execution_count": null,
   "metadata": {},
   "outputs": [],
   "source": [
    "# Now let's pick up an hemisphere, if you update the hemisphere you need to render the next cell again.\n",
    "# You can select mutiple datasets with CTRL+Click\n",
    "\n",
    "from valkyrie import valkyrie_ui as valkyrie\n",
    "v = valkyrie('north')\n",
    "# Once that you are logged in we'll let the API we want to use it to post our data orders\n",
    "v.set_earthdata_user('betolink')"
   ]
  },
  {
   "cell_type": "code",
   "execution_count": null,
   "metadata": {},
   "outputs": [],
   "source": [
    "v.render()"
   ]
  },
  {
   "cell_type": "code",
   "execution_count": null,
   "metadata": {},
   "outputs": [],
   "source": [
    "# Print the granule counts from CMR for our current search params\n",
    "params = v.build_params()\n",
    "params"
   ]
  },
  {
   "cell_type": "code",
   "execution_count": null,
   "metadata": {},
   "outputs": [],
   "source": [
    "# We can also query CMR to get an idea of coverages for the area we just selected\n",
    "v.build_params()\n",
    "granules = v.query_cmr(None)\n",
    "for dataset in granules:\n",
    "    size = round(sum(float(g['granule_size']) for g in granules[dataset]), 2)\n",
    "    print(f'{dataset}: {len(granules[dataset])} granules found. Approx download size: {size} MB')\n"
   ]
  },
  {
   "cell_type": "code",
   "execution_count": null,
   "metadata": {},
   "outputs": [],
   "source": [
    "## We can print the first record for a given dataset\n",
    "dataset = 'ILATM1B'\n",
    "granules[dataset][0]"
   ]
  },
  {
   "cell_type": "markdown",
   "metadata": {},
   "source": [
    "## Placing a data order\n",
    "\n",
    "Now that we have our constraints we just need to post our order and wait for Valkyrie to fulfill it"
   ]
  },
  {
   "cell_type": "code",
   "execution_count": null,
   "metadata": {},
   "outputs": [],
   "source": [
    "# We can put an order directly.\n",
    "my_params ={\n",
    "    'dataset': dataset,\n",
    "    'start': '2015-08-25',\n",
    "    'end': '2016-10-02',\n",
    "    'bbox': '-50.1417,69.0077,-49.4028,69.2981'\n",
    "}\n",
    "order = v.post_valkyrie_order(my_params)\n",
    "order"
   ]
  },
  {
   "cell_type": "code",
   "execution_count": null,
   "metadata": {},
   "outputs": [],
   "source": [
    "order['response'].text"
   ]
  },
  {
   "cell_type": "code",
   "execution_count": null,
   "metadata": {},
   "outputs": [],
   "source": [
    "# Or we can use the interface to put our order based in the current map selection and control values.\n",
    "orders = v.post_orders()\n",
    "orders"
   ]
  },
  {
   "cell_type": "markdown",
   "metadata": {},
   "source": [
    "## Downloading the data\n",
    "Let's get some coffee, some Valkyrie orders are in the Gigabytes real amd may take a little while to be processed. \n",
    "Once that your status URL says is completed we can grab the HDF5 data file using the URL on the same response!"
   ]
  },
  {
   "cell_type": "code",
   "execution_count": null,
   "metadata": {},
   "outputs": [],
   "source": [
    "for order in orders:\n",
    "    print(order)\n",
    "# print(order_status)"
   ]
  }
 ],
 "metadata": {
  "kernelspec": {
   "display_name": "Python 3",
   "language": "python",
   "name": "python3"
  },
  "language_info": {
   "codemirror_mode": {
    "name": "ipython",
    "version": 3
   },
   "file_extension": ".py",
   "mimetype": "text/x-python",
   "name": "python",
   "nbconvert_exporter": "python",
   "pygments_lexer": "ipython3",
   "version": "3.7.6"
  }
 },
 "nbformat": 4,
 "nbformat_minor": 4
}
