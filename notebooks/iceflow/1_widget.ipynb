{
 "cells": [
  {
   "cell_type": "markdown",
   "metadata": {},
   "source": [
    "<center>\n",
    "<img src='./img/nsidc_logo.png'/>\n",
    "\n",
    "# **IceFlow**\n",
    "### Point Cloud Data Access\n",
    "</center>\n",
    "\n",
    "## ICeFlow Access Widget\n",
    "\n",
    "The first step to start working with IceFlow data is to login into [NASA's Earthdata Search](https://earthdata.nasa.gov/).\n",
    "\n",
    "**To view the widget output you need to enable Jupyter's log console.**\n"
   ]
  },
  {
   "cell_type": "code",
   "execution_count": null,
   "metadata": {},
   "outputs": [],
   "source": [
    "# We import our IceFlow client library\n",
    "from iceflow.ui import IceFlowUI\n",
    "# We instantiate our client\n",
    "ui = IceFlowUI()\n",
    "# We need to use our NASA Earth Data Credentials and verify that they work.\n",
    "# Please click on set credentials and then see if we are authenticated by executing the next cell.\n",
    "ui.display_credentials()"
   ]
  },
  {
   "cell_type": "code",
   "execution_count": null,
   "metadata": {},
   "outputs": [],
   "source": [
    "# We are going to verify that our credentials are valid. This may take a little while.\n",
    "session = ui.authenticate()\n",
    "if session is None:\n",
    "    print('we are not logged into NASA EarthData')\n",
    "else:\n",
    "    print('we are logged into NASA EarthData!')"
   ]
  },
  {
   "cell_type": "code",
   "execution_count": null,
   "metadata": {},
   "outputs": [],
   "source": [
    "# Let's start with the user interface. We'll explain what this does next.\n",
    "# vertical = Sidecar widget, horizontal = render the widget in this notebook.\n",
    "ui.display_map('vertical', extra_layers=True)"
   ]
  }
 ],
 "metadata": {
  "kernelspec": {
   "display_name": "Python 3",
   "language": "python",
   "name": "python3"
  },
  "language_info": {
   "codemirror_mode": {
    "name": "ipython",
    "version": 3
   },
   "file_extension": ".py",
   "mimetype": "text/x-python",
   "name": "python",
   "nbconvert_exporter": "python",
   "pygments_lexer": "ipython3",
   "version": "3.7.8"
  }
 },
 "nbformat": 4,
 "nbformat_minor": 4
}
