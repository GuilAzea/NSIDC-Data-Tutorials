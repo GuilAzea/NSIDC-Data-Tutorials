{
 "cells": [
  {
   "cell_type": "markdown",
   "metadata": {},
   "source": [
    "<center>\n",
    "<img src='./img/nsidc_logo.png'/>\n",
    "\n",
    "# **IceFlow**\n",
    "### Point Cloud Data Access\n",
    "</center>\n",
    "\n",
    "### NASA's EarthData Credentials\n",
    "\n",
    "The first step to start working with IceFlow data is to login into [NASA's Earthdata Search](https://earthdata.nasa.gov/).\n",
    "\n",
    "> **Note**: you don't need to be a NASA employee to register with NASA EarthData!\n"
   ]
  },
  {
   "cell_type": "code",
   "execution_count": 1,
   "metadata": {},
   "outputs": [
    {
     "data": {
      "application/vnd.jupyter.widget-view+json": {
       "model_id": "6f313ea65805441bac0e04450ee62b97",
       "version_major": 2,
       "version_minor": 0
      },
      "text/plain": [
       "Text(value='', description='User:', placeholder='Your NASA Earth username ')"
      ]
     },
     "metadata": {},
     "output_type": "display_data"
    },
    {
     "data": {
      "application/vnd.jupyter.widget-view+json": {
       "model_id": "91d884eaa3194e18a0a1c18fe68132f5",
       "version_major": 2,
       "version_minor": 0
      },
      "text/plain": [
       "Password(description='Password:', placeholder='Enter password')"
      ]
     },
     "metadata": {},
     "output_type": "display_data"
    },
    {
     "data": {
      "application/vnd.jupyter.widget-view+json": {
       "model_id": "0249a78f02144f749902178c5ba795cc",
       "version_major": 2,
       "version_minor": 0
      },
      "text/plain": [
       "Button(description='Set Credentials', style=ButtonStyle())"
      ]
     },
     "metadata": {},
     "output_type": "display_data"
    }
   ],
   "source": [
    "# We import our IceFlow client library\n",
    "from iceflow.client import IceflowClient\n",
    "# We instantiate our client\n",
    "iceflow = IceflowClient()\n",
    "# We need to use our NASA Earth Data Credentials and verify that they work.\n",
    "# Please click on set credentials and then see if we are authenticated by executing the next cell.\n",
    "iceflow.display(['credentials'])"
   ]
  },
  {
   "cell_type": "code",
   "execution_count": 2,
   "metadata": {},
   "outputs": [
    {
     "name": "stdout",
     "output_type": "stream",
     "text": [
      "we are logged into NASA EarthData!\n"
     ]
    }
   ],
   "source": [
    "# We are going to verify that our credentials are valid.\n",
    "session = iceflow.create_earthdata_authenticated_session()\n",
    "if session is None:\n",
    "    print('we are not logged into NASA EarthData')\n",
    "else:\n",
    "    print('we are logged into NASA EarthData!')"
   ]
  },
  {
   "cell_type": "code",
   "execution_count": 4,
   "metadata": {},
   "outputs": [
    {
     "data": {
      "application/vnd.jupyter.widget-view+json": {
       "model_id": "5dc9e010912e431c9a5843805ea78e33",
       "version_major": 2,
       "version_minor": 0
      },
      "text/plain": [
       "VBox(children=(Dropdown(description='Hemisphere:', index=2, options=('global', 'south', 'north'), value='north…"
      ]
     },
     "metadata": {},
     "output_type": "display_data"
    },
    {
     "data": {
      "application/vnd.jupyter.widget-view+json": {
       "model_id": "13cafb601d904aad9c48b3beb90fd808",
       "version_major": 2,
       "version_minor": 0
      },
      "text/plain": [
       "Output(layout=Layout(border='1px solid black'), outputs=({'output_type': 'display_data', 'data': {'text/plain'…"
      ]
     },
     "metadata": {},
     "output_type": "display_data"
    }
   ],
   "source": [
    "# Let's start with the user interface. We'll explain what this does next.\n",
    "# vertical = Sidecar widget, horizontal = render the widget in this notebook.\n",
    "iceflow.display(['map','controls'], 'horizontal', extra_layers=True)"
   ]
  },
  {
   "cell_type": "markdown",
   "metadata": {},
   "source": [
    "## Placing a data order for one of the data sets served by IceFlow\n",
    "\n",
    "Now that we have our constraints we just need to post our order and wait for IceFlow to fulfill it. \n",
    "\n",
    "We can put an order directly, in this case we are going to work on a geometry that overlaps with [Jakobshavn](https://en.wikipedia.org/wiki/Jakobshavn_Glacier) glacier in Greenland or Thwaites Glacier in Antarctica (depending on which one you select). \n",
    "\n",
    "\n"
   ]
  },
  {
   "cell_type": "code",
   "execution_count": 9,
   "metadata": {},
   "outputs": [
    {
     "data": {
      "text/plain": [
       "{'request': {'bbox': '-107.4515,-75.3695,-105.3794,-74.4563',\n",
       "  'time_range': '2001-01-01,2011-1-01'},\n",
       " 'response': <Response [200]>}"
      ]
     },
     "execution_count": 9,
     "metadata": {},
     "output_type": "execute_result"
    }
   ],
   "source": [
    "# note that we are explicitly using the name of one of the ATM datasets\n",
    "# dataset = 'ILATM1B'\n",
    "dataset = 'GLAH06'\n",
    "\n",
    "# Thwaites glacier\n",
    "my_params ={\n",
    "    'dataset': 'GLAH06',\n",
    "    'start': '2001-01-01',\n",
    "    'end': '2011-1-01',\n",
    "    'bbox': '-107.4515,-75.3695,-105.3794,-74.4563'\n",
    "}\n",
    "\n",
    "# Jakobshavn 2016\n",
    "# my_params ={\n",
    "#     'dataset': dataset,\n",
    "#     'start': '2016-01-01',\n",
    "#     'end': '2016-12-31',\n",
    "#     'bbox': '-107.4515,-75.3695,-105.3794,-74.4563'\n",
    "# }\n",
    "\n",
    "# returns a json dictionary, the request parameters and the order's response.\n",
    "order = iceflow.post_iceflow_order(my_params)\n",
    "order"
   ]
  },
  {
   "cell_type": "markdown",
   "metadata": {},
   "source": [
    "## Downloading the data\n",
    "Let's get some coffee, some IceFlow orders are in the Gigabytes real and may take a little while to be processed. \n",
    "Once that your status URL says is completed we can grab the HDF5 data file using the URL on the same response!\n",
    "\n",
    "The first thing we need to know is the order status"
   ]
  },
  {
   "cell_type": "code",
   "execution_count": 10,
   "metadata": {},
   "outputs": [
    {
     "data": {
      "text/plain": [
       "{'message': 'Order queued for processing.',\n",
       " 'order_id': '88a1e685-b7a4-443a-8f48-922836ce82f9',\n",
       " 'status_url': 'http://valkyrie-vm.apps.nsidc.org/1.0/order-status/88a1e685-b7a4-443a-8f48-922836ce82f9'}"
      ]
     },
     "execution_count": 10,
     "metadata": {},
     "output_type": "execute_result"
    }
   ],
   "source": [
    "order['response'].json()"
   ]
  },
  {
   "cell_type": "code",
   "execution_count": 11,
   "metadata": {},
   "outputs": [
    {
     "data": {
      "text/plain": [
       "{'message': 'Order is complete. Data now available for download.',\n",
       " 'order_id': '88a1e685-b7a4-443a-8f48-922836ce82f9',\n",
       " 'status': 'COMPLETE',\n",
       " 'url': 'http://valkyrie-vm.apps.nsidc.org/1.0/order/88a1e685-b7a4-443a-8f48-922836ce82f9'}"
      ]
     },
     "execution_count": 11,
     "metadata": {},
     "output_type": "execute_result"
    }
   ],
   "source": [
    "order_status = iceflow.order_status(order)\n",
    "if 'url' in order_status:\n",
    "    data_url = order_status['url']\n",
    "order_status"
   ]
  },
  {
   "cell_type": "markdown",
   "metadata": {},
   "source": [
    "## Data order is complete\n",
    "Now that we know the order is complete we can download the file in our status response `url` to our local working directory using requests or curl or wget or just clicking the link.\n",
    "\n"
   ]
  },
  {
   "cell_type": "code",
   "execution_count": 12,
   "metadata": {},
   "outputs": [],
   "source": [
    "# We can name our file or leave it with the original file name by not using the file_name parameter.\n",
    "file_name = 'twaties-test-GLAH06-2000-2010'\n",
    "iceflow_file = iceflow.download_order(data_url, file_name)"
   ]
  },
  {
   "cell_type": "markdown",
   "metadata": {},
   "source": [
    "## Placing multiple data orders to IceFlow\n",
    "\n",
    "If we need more than one data set from IceFlow at the same time, we can use the client to place our data orders, IceFlow will return a single HDF5 file for each of the data sets that we have selected using the map widget."
   ]
  },
  {
   "cell_type": "code",
   "execution_count": null,
   "metadata": {},
   "outputs": [],
   "source": [
    "# orders = v.post_orders()\n",
    "# orders"
   ]
  }
 ],
 "metadata": {
  "kernelspec": {
   "display_name": "Python 3",
   "language": "python",
   "name": "python3"
  },
  "language_info": {
   "codemirror_mode": {
    "name": "ipython",
    "version": 3
   },
   "file_extension": ".py",
   "mimetype": "text/x-python",
   "name": "python",
   "nbconvert_exporter": "python",
   "pygments_lexer": "ipython3",
   "version": "3.7.8"
  }
 },
 "nbformat": 4,
 "nbformat_minor": 4
}
