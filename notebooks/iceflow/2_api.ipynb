{
 "cells": [
  {
   "cell_type": "markdown",
   "metadata": {},
   "source": [
    "<center>\n",
    "<img src='./img/nsidc_logo.png'/>\n",
    "\n",
    "# **IceFlow**\n",
    "### Point Cloud Data Access\n",
    "</center>\n",
    "\n",
    "---\n",
    "\n",
    "## IceFlow API\n",
    "\n",
    "IceFlow \n",
    "\n",
    "**Spatial Extent Parameters**\n",
    "\n",
    "* **Polygon**: A conterclockwise closed array of lat-lons, the last coordinate has to be the same as the first pair.\n",
    "* **bounding box**: a WGS84 box with min_lon,min_lat,max_lon,max_lat values\n",
    "\n",
    "**Temporal Extent Parameters**\n",
    "* **date_range**: The date/time range over which to return data, accepts UTF datetime or simple YYYY-mm-dd formatted values.\n",
    "\n",
    "**ITRF** (optional)\n",
    "* The ITRF reference to which the data will be transformed via the published ITRF transformation parameters. Optional, but must be used when specifying epoch.\n",
    "* Available values : **ITRF2000, ITRF2008, ITRF2014**\n",
    "\n",
    "**Epoch** (optional)\n",
    "* The epoch (in decimal years) to which the data will be transformed via the ITRF Plate Motion Model corresponding to ITRF. Optional, and can be used when also specifying itrf, but can only be used if itrf is ITRF2008 or ITRF2014 since there is no ITRF2000 Plate Motion Model.\n"
   ]
  },
  {
   "cell_type": "code",
   "execution_count": 1,
   "metadata": {},
   "outputs": [],
   "source": [
    "# Importing the IceFlow client and authenticating ourselves with EarthData\n",
    "from iceflow.client import IceflowClient\n",
    "\n",
    "ifc = IceflowClient()\n",
    "authorized = ifc.authenticate('betolink', 'Luiskov1', 'luis.lopezespinosa@colorado.edu')\n",
    "if authorized is None:\n",
    "    print('NASA EarthData could not fins a valid user, verify your credentials')\n",
    "else:\n",
    "    print('User authenticated with EarthData')"
   ]
  },
  {
   "cell_type": "code",
   "execution_count": 2,
   "metadata": {},
   "outputs": [
    {
     "name": "stdout",
     "output_type": "stream",
     "text": [
      "BLATM1B: 2 granules found. Approx download size: 0.28 GB\n",
      "GLAH06: 139 granules found. Approx download size: 0.43 GB\n",
      "ILATM1B: 12 granules found. Approx download size: 0.21 GB\n"
     ]
    }
   ],
   "source": [
    "# We use IceFlow to query CMR and get an idea of how many granules we'll be subsetting.\n",
    "\n",
    "# Thwaites glacier, Pre-IceBridge, ICESat and IceBridge in one place!!! \n",
    "my_params ={\n",
    "    'datasets': ['BLATM1B', 'GLAH06', 'ILATM1B'],\n",
    "    'start': '1993-01-01',\n",
    "    'end': '2018-11-01',\n",
    "    'bbox': '-107.4515,-75.3695,-105.3794,-74.4563'\n",
    "}\n",
    "granules = ifc.query_cmr(my_params)"
   ]
  },
  {
   "cell_type": "code",
   "execution_count": null,
   "metadata": {},
   "outputs": [],
   "source": [
    "# Now we order the data, this is an async process. When the order is complete\n",
    "# you can proceed to downlad the IceFlow data granule.\n",
    "order = ifc.place_iceflow_order(my_params)"
   ]
  },
  {
   "cell_type": "code",
   "execution_count": null,
   "metadata": {},
   "outputs": [],
   "source": [
    "status = ifc.check_iceflow_order_status(order)\n",
    "if status=='COMPLETE':\n",
    "    ifc.download_iceflow_order(order)\n",
    "else:\n",
    "    print(f'The status is {status}')"
   ]
  }
 ],
 "metadata": {
  "kernelspec": {
   "display_name": "Python 3",
   "language": "python",
   "name": "python3"
  },
  "language_info": {
   "codemirror_mode": {
    "name": "ipython",
    "version": 3
   },
   "file_extension": ".py",
   "mimetype": "text/x-python",
   "name": "python",
   "nbconvert_exporter": "python",
   "pygments_lexer": "ipython3",
   "version": "3.7.8"
  }
 },
 "nbformat": 4,
 "nbformat_minor": 4
}
