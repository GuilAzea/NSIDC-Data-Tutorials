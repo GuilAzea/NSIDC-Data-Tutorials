{
 "cells": [
  {
   "cell_type": "markdown",
   "metadata": {},
   "source": [
    "<center>\n",
    "<img src='./img/nsidc_logo.png'/>\n",
    "\n",
    "# **IceFlow**\n",
    "### Point Cloud Data Access\n",
    "</center>\n",
    "\n",
    "---\n",
    "\n",
    "## IceFlow API\n",
    "\n",
    "IceFlow \n",
    "\n",
    "**Spatial Extent Parameters**\n",
    "\n",
    "* **Polygon**: A conterclockwise closed array of lat-lons, the last coordinate has to be the same as the first pair.\n",
    "* **bounding box**: a WGS84 box with min_lon,min_lat,max_lon,max_lat values\n",
    "\n",
    "**Temporal Extent Parameters**\n",
    "* **date_range**: The date/time range over which to return data, accepts UTF datetime or simple YYYY-mm-dd formatted values.\n",
    "\n",
    "**ITRF** (optional)\n",
    "* The ITRF reference to which the data will be transformed via the published ITRF transformation parameters. Optional, but must be used when specifying epoch.\n",
    "* Available values : **ITRF2000, ITRF2008, ITRF2014**\n",
    "\n",
    "**Epoch** (optional)\n",
    "* The epoch (in decimal years) to which the data will be transformed via the ITRF Plate Motion Model corresponding to ITRF. Optional, and can be used when also specifying itrf, but can only be used if itrf is ITRF2008 or ITRF2014 since there is no ITRF2000 Plate Motion Model.\n",
    "\n",
    "## Using NSIDC data ordering system to place an IceFlow order\n"
   ]
  },
  {
   "cell_type": "code",
   "execution_count": null,
   "metadata": {},
   "outputs": [],
   "source": [
    "# Importing the IceFlow client and authenticating ourselves with EarthData\n",
    "from iceflow.client import IceflowClient\n",
    "\n",
    "ifc = IceflowClient()\n",
    "authorized = ifc.authenticate('yourearthdatauser', 'password', 'email@yourdomain.com')\n",
    "if authorized is None:\n",
    "    print('NASA EarthData could not fins a valid user, verify your credentials')\n",
    "else:\n",
    "    print('User authenticated with EarthData')"
   ]
  },
  {
   "cell_type": "code",
   "execution_count": null,
   "metadata": {},
   "outputs": [],
   "source": [
    "# We use IceFlow to query CMR and get an idea of how many granules we'll be subsetting.\n",
    "\n",
    "# Thwaites glacier ICESat and ICESat2\n",
    "my_params ={\n",
    "    'datasets': ['GLAH06', 'ATL06'],\n",
    "    'ITRF': '2014',\n",
    "    'epoch': '2014.1',\n",
    "    'start': '2003-01-01',\n",
    "    'end': '2019-01-01',\n",
    "    'bbox': '-107.4515,-75.3695,-105.3794,-74.4563'\n",
    "}\n",
    "granules = ifc.query_cmr(my_params)"
   ]
  },
  {
   "cell_type": "code",
   "execution_count": null,
   "metadata": {},
   "outputs": [],
   "source": [
    "# Now we order the data, this is an async process. When the order is complete\n",
    "# you can proceed to downlad the IceFlow data granule.\n",
    "orders = ifc.place_data_orders(my_params)\n",
    "orders"
   ]
  },
  {
   "cell_type": "code",
   "execution_count": null,
   "metadata": {},
   "outputs": [],
   "source": [
    "for order in orders:\n",
    "    status = ifc.check_order_status(order)\n",
    "    if status['status'] == 'COMPLETE':\n",
    "        ifc.download_order(order)"
   ]
  }
 ],
 "metadata": {
  "kernelspec": {
   "display_name": "Python 3",
   "language": "python",
   "name": "python3"
  },
  "language_info": {
   "codemirror_mode": {
    "name": "ipython",
    "version": 3
   },
   "file_extension": ".py",
   "mimetype": "text/x-python",
   "name": "python",
   "nbconvert_exporter": "python",
   "pygments_lexer": "ipython3",
   "version": "3.7.9"
  }
 },
 "nbformat": 4,
 "nbformat_minor": 4
}
