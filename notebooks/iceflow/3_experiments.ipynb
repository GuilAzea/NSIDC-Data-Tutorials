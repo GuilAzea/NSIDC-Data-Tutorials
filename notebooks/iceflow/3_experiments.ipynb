{
 "cells": [
  {
   "cell_type": "code",
   "execution_count": null,
   "metadata": {},
   "outputs": [],
   "source": [
    "from icepyx import query as ipqr\n",
    "\n",
    "\n",
    "import numpy as np\n",
    "import xarray as xr\n",
    "import pandas as pd\n",
    "\n",
    "import h5py\n",
    "import os,json\n",
    "from pprint import pprint"
   ]
  },
  {
   "cell_type": "code",
   "execution_count": null,
   "metadata": {},
   "outputs": [],
   "source": []
  },
  {
   "cell_type": "code",
   "execution_count": null,
   "metadata": {},
   "outputs": [],
   "source": [
    "def x():\n",
    "    return 1\n",
    "t = type(x)\n",
    "t == class func"
   ]
  },
  {
   "cell_type": "code",
   "execution_count": null,
   "metadata": {},
   "outputs": [],
   "source": [
    "requests=[\n",
    "    {   'short_name' : 'ATL03',\n",
    "        'spatial_extent' :[153.6, 79.98, 153.61, 79.99],\n",
    "        'date_range' : ['2019-02-06','2019-02-06']},\n"
   ]
  },
  {
   "cell_type": "code",
   "execution_count": null,
   "metadata": {},
   "outputs": [],
   "source": [
    "region_a.earthdata_login('username','email')"
   ]
  },
  {
   "cell_type": "code",
   "execution_count": null,
   "metadata": {},
   "outputs": [],
   "source": [
    "region_a.show_custom_options(dictview=True)"
   ]
  },
  {
   "cell_type": "code",
   "execution_count": null,
   "metadata": {},
   "outputs": [],
   "source": [
    "import geopandas\n",
    "import pandas as pd\n",
    "from datetime import datetime\n",
    "df = geopandas.read_file('./files/ib_north.json')\n",
    "df['date']  = pd.to_datetime(df['timestamp'])\n",
    "df[df.date < datetime(2011,1,1)][['timestamp','geometry']].to_json()\n"
   ]
  },
  {
   "cell_type": "code",
   "execution_count": null,
   "metadata": {},
   "outputs": [],
   "source": [
    "import pandas as pd\n",
    "from ipywidgets import widgets\n",
    "\n",
    "def on_change(change):\n",
    "    print(change)\n",
    "    \n",
    "slider_dates = [(date.strftime(' %Y-%m-%d '), date) for date in\n",
    "                pd.date_range('2000-01-01',\n",
    "                                '2010-01-01',\n",
    "                                freq='D')]\n",
    "slider_index = (0, len(slider_dates)-1)\n",
    "    \n",
    "ds = date_slider_control = widgets.SelectionRangeSlider(\n",
    "                options=[1,2,3,4,5,6],\n",
    "                continuous_update=False,\n",
    "                description='Date Range',\n",
    "                orientation='horizontal',\n",
    "                layout={'width': '100%'})\n",
    "    \n",
    "ds.observe(on_change)\n",
    "ds"
   ]
  },
  {
   "cell_type": "code",
   "execution_count": null,
   "metadata": {},
   "outputs": [],
   "source": [
    "from ipyleaflet import Map, WMSLayer, basemaps, projections, TileLayer\n",
    "from traitlets import Bool\n",
    "\n",
    "\n",
    "itslive_north = 'https://gibs.earthdata.nasa.gov/wmts/epsg3413/best/MEaSUREs_Ice_Velocity_Greenland/default/2008-12-01/500m/{z}/{y}/{x}.png'\n",
    "\n",
    "\n",
    "\n",
    "\n",
    "itslive_layer = TileLayer(opacity=1.0,\n",
    "                            name='Ice Velocities',\n",
    "                            url=itslive_north,\n",
    "                            zoom=1,\n",
    "                            min_zoom=1,\n",
    "                            max_zoom=4)\n",
    "\n",
    "\n",
    "\n",
    "m = Map(basemap=basemaps.NASAGIBS.BlueMarble3413,\n",
    "        crs=projections.EPSG3413,\n",
    "        max_zoom=4,\n",
    "        center=(90,0),\n",
    "        zoom=1)\n",
    "\n",
    "m.add_layer(itslive_layer)\n",
    "\n",
    "m\n"
   ]
  }
 ],
 "metadata": {
  "kernelspec": {
   "display_name": "Python 3",
   "language": "python",
   "name": "python3"
  },
  "language_info": {
   "codemirror_mode": {
    "name": "ipython",
    "version": 3
   },
   "file_extension": ".py",
   "mimetype": "text/x-python",
   "name": "python",
   "nbconvert_exporter": "python",
   "pygments_lexer": "ipython3",
   "version": "3.7.8"
  }
 },
 "nbformat": 4,
 "nbformat_minor": 4
}
