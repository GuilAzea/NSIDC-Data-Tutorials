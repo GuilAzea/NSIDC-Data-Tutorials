{
 "cells": [
  {
   "cell_type": "markdown",
   "metadata": {},
   "source": [
    "<div align=\"center\"> \n",
    "<img src='./img/header.png'/>\n",
    "</div>\n",
    "\n",
    "## [Global Ice Velocities](https://its-live.jpl.nasa.gov/)\n",
    "    \n",
    "The Inter-mission Time Series of Land Ice Velocity and Elevation (ITS_LIVE) project facilitates ice sheet, ice shelf and glacier research by providing a globally comprehensive and temporally dense multi-sensor record of land ice velocity and elevation with low latency.\n",
    "\n",
    "Scene-pair velocities generated from satellite optical and radar imagery.\n",
    "\n",
    "* Coverage: All land ice\n",
    "* Date range: 1985-present\n",
    "* Resolution: 240m\n",
    "* Scene-pair separation: 6 to 546 days\n",
    "\n",
    "\n",
    "---\n",
    "\n",
    "* If you want to query our API directly using  your own software here is the OpenApi endpoint https://staging.nsidc.org/apps/itslive-search/docs\n",
    "* For questions about this notebook and the dataset please contact users services at uso@nsidc.org\n"
   ]
  },
  {
   "cell_type": "code",
   "execution_count": 1,
   "metadata": {},
   "outputs": [
    {
     "data": {
      "application/vnd.jupyter.widget-view+json": {
       "model_id": "e0f93018b3ee414c90c0695d03805fd5",
       "version_major": 2,
       "version_minor": 0
      },
      "text/plain": [
       "Dropdown(description='Hemisphere:', options=('global', 'south', 'north'), value='global')"
      ]
     },
     "metadata": {},
     "output_type": "display_data"
    },
    {
     "data": {
      "application/vnd.jupyter.widget-view+json": {
       "model_id": "f04781e6944d4ad59cbed19f99bbedf5",
       "version_major": 2,
       "version_minor": 0
      },
      "text/plain": [
       "HBox(children=(Label(value='Minimum % of valid pixels per image pair:'), Dropdown(layout=Layout(display='flex'…"
      ]
     },
     "metadata": {},
     "output_type": "display_data"
    },
    {
     "data": {
      "application/vnd.jupyter.widget-view+json": {
       "model_id": "131c1de5730a4aec88885e72bae94820",
       "version_major": 2,
       "version_minor": 0
      },
      "text/plain": [
       "HBox(children=(Label(value='Days of separation between image pairs:'), Dropdown(layout=Layout(display='flex', …"
      ]
     },
     "metadata": {},
     "output_type": "display_data"
    },
    {
     "data": {
      "application/vnd.jupyter.widget-view+json": {
       "model_id": "7640dde247c94511aaa216381102dc0e",
       "version_major": 2,
       "version_minor": 0
      },
      "text/plain": [
       "SelectionRangeSlider(description='Date Range', index=(0, 13149), layout=Layout(width='100%'), options=((' 1984…"
      ]
     },
     "metadata": {},
     "output_type": "display_data"
    },
    {
     "data": {
      "application/vnd.jupyter.widget-view+json": {
       "model_id": "195c11c333af4bb483af6d2ec7d3c2e3",
       "version_major": 2,
       "version_minor": 0
      },
      "text/plain": [
       "Map(center=[0, 0], controls=(ZoomControl(options=['position', 'zoom_in_text', 'zoom_in_title', 'zoom_out_text'…"
      ]
     },
     "metadata": {},
     "output_type": "display_data"
    }
   ],
   "source": [
    "#1: Now let's render our UI and pick up an hemisphere, if you update the hemisphere you need to execute the cell again.\n",
    "import warnings\n",
    "warnings.filterwarnings('ignore')\n",
    "from itslive import itslive_ui\n",
    "ui = itslive_ui('global')\n",
    "ui.render()"
   ]
  },
  {
   "cell_type": "code",
   "execution_count": 2,
   "metadata": {},
   "outputs": [
    {
     "name": "stdout",
     "output_type": "stream",
     "text": [
      "current parameters: {'polygon': '-49.5551,69.1349,-49.5551,69.1369,-49.5531,69.1369,-49.5531,69.1349,-49.5551,69.1349', 'start': '1984-01-01', 'end': '2020-01-01', 'percent_valid_pixels': '90', 'time_delta': '67'}\n",
      "Total data granules: 604\n"
     ]
    },
    {
     "data": {
      "text/plain": [
       "[{'count': 1, 'year': 1988},\n",
       " {'count': 4, 'year': 1989},\n",
       " {'count': 4, 'year': 1992},\n",
       " {'count': 3, 'year': 1993},\n",
       " {'count': 1, 'year': 2003},\n",
       " {'count': 39, 'year': 2013},\n",
       " {'count': 48, 'year': 2014},\n",
       " {'count': 67, 'year': 2015},\n",
       " {'count': 83, 'year': 2016},\n",
       " {'count': 182, 'year': 2017},\n",
       " {'count': 172, 'year': 2018}]"
      ]
     },
     "execution_count": 2,
     "metadata": {},
     "output_type": "execute_result"
    }
   ],
   "source": [
    "#2: We build the parameters to query the ITS_LIVE Search API, we get the time coverage for our selected area\n",
    "params = ui.build_params()\n",
    "print(f'current parameters: {params}')\n",
    "timeline = None\n",
    "if params is not None:\n",
    "    timeline = ui.update_coverages()\n",
    "    total =  sum(item['count'] for item in timeline)\n",
    "    print(f'Total data granules: {total:,}')\n",
    "timeline"
   ]
  },
  {
   "cell_type": "code",
   "execution_count": 3,
   "metadata": {},
   "outputs": [
    {
     "name": "stdout",
     "output_type": "stream",
     "text": [
      "{'url': 'http://its-live-data.jpl.nasa.gov.s3.amazonaws.com/velocity_image_pair/landsat/v00.0/32622/LC08_L1TP_008012_20140509_20170422_01_T1_X_LC08_L1TP_008012_20140322_20170424_01_T1_G0240V01_P095.nc'}\n",
      "{'url': 'http://its-live-data.jpl.nasa.gov.s3.amazonaws.com/velocity_image_pair/landsat/v00.0/32622/LC08_L1TP_008012_20140509_20170422_01_T1_X_LC08_L1TP_008012_20140407_20170424_01_T1_G0240V01_P095.nc'}\n",
      "{'url': 'http://its-live-data.jpl.nasa.gov.s3.amazonaws.com/velocity_image_pair/landsat/v00.0/32622/LC08_L1TP_008012_20150512_20170409_01_T1_X_LC08_L1TP_008012_20150426_20170409_01_T1_G0240V01_P093.nc'}\n",
      "{'url': 'http://its-live-data.jpl.nasa.gov.s3.amazonaws.com/velocity_image_pair/landsat/v00.0/32622/LC08_L1TP_008012_20170415_20170501_01_T1_X_LC08_L1TP_008012_20170226_20170316_01_T1_G0240V01_P095.nc'}\n",
      "{'url': 'http://its-live-data.jpl.nasa.gov.s3.amazonaws.com/velocity_image_pair/landsat/v00.0/32622/LC08_L1TP_009012_20180730_20180814_01_T1_X_LC08_L1TP_009012_20170711_20170711_01_RT_G0240V01_P092.nc'}\n",
      "{'url': 'http://its-live-data.jpl.nasa.gov.s3.amazonaws.com/velocity_image_pair/landsat/v00.0/32622/LC08_L1TP_009012_20181018_20181031_01_T1_X_LC08_L1TP_009012_20180730_20180814_01_T1_G0240V01_P093.nc'}\n",
      "{'url': 'http://its-live-data.jpl.nasa.gov.s3.amazonaws.com/velocity_image_pair/landsat/v00.0/32622/LC08_L1TP_008012_20140610_20170422_01_T1_X_LC08_L1TP_008012_20140322_20170424_01_T1_G0240V01_P091.nc'}\n",
      "{'url': 'http://its-live-data.jpl.nasa.gov.s3.amazonaws.com/velocity_image_pair/landsat/v00.0/32622/LC08_L1TP_008012_20160530_20170324_01_T1_X_LC08_L1TP_008012_20160428_20170326_01_T1_G0240V01_P093.nc'}\n",
      "{'url': 'http://its-live-data.jpl.nasa.gov.s3.amazonaws.com/velocity_image_pair/landsat/v00.0/32622/LC08_L1TP_008012_20140610_20170422_01_T1_X_LC08_L1TP_008012_20140407_20170424_01_T1_G0240V01_P092.nc'}\n",
      "{'url': 'http://its-live-data.jpl.nasa.gov.s3.amazonaws.com/velocity_image_pair/landsat/v00.0/32622/LC08_L1TP_008012_20160428_20170326_01_T1_X_LC08_L1TP_008012_20160311_20170328_01_T1_G0240V01_P091.nc'}\n"
     ]
    }
   ],
   "source": [
    "#4: Now we are going to get the velocity pair urls, this does not download the files yet just their location\n",
    "params = ui.build_params()\n",
    "if params is not None:\n",
    "    urls = ui.get_granule_urls()\n",
    "    # Print the first 10 granule URLs\n",
    "    for url in urls[0:10]:\n",
    "        print(url)"
   ]
  },
  {
   "cell_type": "code",
   "execution_count": 4,
   "metadata": {},
   "outputs": [
    {
     "name": "stdout",
     "output_type": "stream",
     "text": [
      "26\n"
     ]
    },
    {
     "data": {
      "text/plain": [
       "['http://its-live-data.jpl.nasa.gov.s3.amazonaws.com/velocity_image_pair/landsat/v00.0/32622/LC08_L1TP_008012_20150512_20170409_01_T1_X_LC08_L1TP_008012_20150426_20170409_01_T1_G0240V01_P093.nc',\n",
       " 'http://its-live-data.jpl.nasa.gov.s3.amazonaws.com/velocity_image_pair/landsat/v00.0/32622/LC08_L1TP_008012_20170415_20170501_01_T1_X_LC08_L1TP_008012_20170226_20170316_01_T1_G0240V01_P095.nc',\n",
       " 'http://its-live-data.jpl.nasa.gov.s3.amazonaws.com/velocity_image_pair/landsat/v00.0/32622/LC08_L1TP_009012_20180730_20180814_01_T1_X_LC08_L1TP_009012_20170711_20170711_01_RT_G0240V01_P092.nc',\n",
       " 'http://its-live-data.jpl.nasa.gov.s3.amazonaws.com/velocity_image_pair/landsat/v00.0/32623/LC08_L1TP_007012_20150825_20170405_01_T1_X_LC08_L1TP_007012_20150708_20170407_01_T1_G0240V01_P098.nc',\n",
       " 'http://its-live-data.jpl.nasa.gov.s3.amazonaws.com/velocity_image_pair/landsat/v00.0/32623/LC08_L1TP_007012_20170627_20170627_01_RT_X_LC08_L1TP_007012_20170510_20170516_01_T1_G0240V01_P091.nc',\n",
       " 'http://its-live-data.jpl.nasa.gov.s3.amazonaws.com/velocity_image_pair/landsat/v00.0/32623/LC08_L1TP_007012_20170729_20170730_01_RT_X_LC08_L1TP_007012_20170627_20170627_01_RT_G0240V01_P097.nc',\n",
       " 'http://its-live-data.jpl.nasa.gov.s3.amazonaws.com/velocity_image_pair/landsat/v00.0/32623/LC08_L1TP_007012_20170729_20170730_01_RT_X_LC08_L1TP_007012_20170627_20170714_01_T1_G0240V01_P097.nc',\n",
       " 'http://its-live-data.jpl.nasa.gov.s3.amazonaws.com/velocity_image_pair/landsat/v00.0/32623/LC08_L1TP_007012_20180918_20180918_01_RT_X_LC08_L1TP_007012_20180902_20180912_01_T1_G0240V01_P091.nc',\n",
       " 'http://its-live-data.jpl.nasa.gov.s3.amazonaws.com/velocity_image_pair/landsat/v00.0/32623/LC08_L1TP_007012_20180918_20180928_01_T1_X_LC08_L1TP_007012_20180902_20180912_01_T1_G0240V01_P091.nc',\n",
       " 'http://its-live-data.jpl.nasa.gov.s3.amazonaws.com/velocity_image_pair/landsat/v00.0/32622/LC08_L1TP_007012_20180411_20180411_01_RT_X_LC08_L1TP_007012_20180310_20180310_01_RT_G0240V01_P093.nc',\n",
       " 'http://its-live-data.jpl.nasa.gov.s3.amazonaws.com/velocity_image_pair/landsat/v00.0/32622/LC08_L1TP_009011_20130411_20170505_01_T1_X_LC08_L1TP_011011_20130322_20170505_01_T1_G0240V01_P092.nc',\n",
       " 'http://its-live-data.jpl.nasa.gov.s3.amazonaws.com/velocity_image_pair/landsat/v00.0/32622/LC08_L1TP_009011_20130427_20170505_01_T1_X_LC08_L1TP_011011_20130322_20170505_01_T1_G0240V01_P092.nc',\n",
       " 'http://its-live-data.jpl.nasa.gov.s3.amazonaws.com/velocity_image_pair/landsat/v00.0/32622/LC08_L1TP_010011_20150526_20170408_01_T1_X_LC08_L1TP_010011_20150424_20170409_01_T1_G0240V01_P093.nc',\n",
       " 'http://its-live-data.jpl.nasa.gov.s3.amazonaws.com/velocity_image_pair/landsat/v00.0/32622/LC08_L1TP_009011_20150503_20170409_01_T1_X_LC08_L1TP_009011_20150316_20170412_01_T1_G0240V01_P095.nc',\n",
       " 'http://its-live-data.jpl.nasa.gov.s3.amazonaws.com/velocity_image_pair/landsat/v00.0/32622/LC08_L1TP_009011_20130411_20170505_01_T1_X_LE07_L1TP_009011_20130318_20161125_01_T1_G0240V01_P094.nc',\n",
       " 'http://its-live-data.jpl.nasa.gov.s3.amazonaws.com/velocity_image_pair/landsat/v00.0/32622/LC08_L1TP_009011_20130411_20170505_01_T1_X_LE07_L1TP_009011_20130403_20161125_01_T1_G0240V01_P096.nc',\n",
       " 'http://its-live-data.jpl.nasa.gov.s3.amazonaws.com/velocity_image_pair/landsat/v00.0/32622/LT05_L1TP_011011_19920415_20180220_01_T1_X_LT05_L1TP_011011_19920314_20180220_01_T2_G0240V01_P092.nc',\n",
       " 'http://its-live-data.jpl.nasa.gov.s3.amazonaws.com/velocity_image_pair/landsat/v00.0/32622/LE07_L1TP_008012_20030417_20170125_01_T1_X_LE07_L1TP_008012_20030401_20170126_01_T1_G0240V01_P095.nc',\n",
       " 'http://its-live-data.jpl.nasa.gov.s3.amazonaws.com/velocity_image_pair/landsat/v00.0/32622/LT05_L1TP_008012_19890504_20170203_01_T1_X_LT05_L1TP_008012_19890402_20170204_01_T1_G0240V01_P092.nc',\n",
       " 'http://its-live-data.jpl.nasa.gov.s3.amazonaws.com/velocity_image_pair/landsat/v00.0/32622/LT05_L1TP_011011_19920415_20180220_01_T1_X_LT05_L1TP_009011_19920401_20180220_01_T1_G0240V01_P092.nc',\n",
       " 'http://its-live-data.jpl.nasa.gov.s3.amazonaws.com/velocity_image_pair/landsat/v00.0/32622/LT05_L1TP_011011_19920415_20180220_01_T1_X_LT05_L1TP_010011_19920323_20180220_01_T1_G0240V01_P092.nc',\n",
       " 'http://its-live-data.jpl.nasa.gov.s3.amazonaws.com/velocity_image_pair/landsat/v00.0/32622/LT05_L1TP_011011_19880420_20170209_01_T1_X_LT05_L1TP_011011_19880404_20170209_01_T1_G0240V01_P091.nc',\n",
       " 'http://its-live-data.jpl.nasa.gov.s3.amazonaws.com/velocity_image_pair/landsat/v00.0/32622/LT05_L1TP_009011_19930506_20180220_01_T1_X_LT05_L1TP_011011_19930418_20180220_01_T1_G0240V01_P092.nc',\n",
       " 'http://its-live-data.jpl.nasa.gov.s3.amazonaws.com/velocity_image_pair/landsat/v00.0/32622/LT05_L1TP_007012_19890427_20170203_01_T1_X_LT05_L1TP_008012_19890402_20170204_01_T1_G0240V01_P093.nc',\n",
       " 'http://its-live-data.jpl.nasa.gov.s3.amazonaws.com/velocity_image_pair/landsat/v00.0/32623/LT05_L1TP_008012_19890504_20170203_01_T1_X_LT05_L1TP_008012_19890402_20170204_01_T1_G0240V01_P091.nc',\n",
       " 'http://its-live-data.jpl.nasa.gov.s3.amazonaws.com/velocity_image_pair/landsat/v00.0/32623/LT05_L1TP_007012_19890427_20170203_01_T1_X_LT05_L1TP_008012_19890402_20170204_01_T1_G0240V01_P093.nc']"
      ]
     },
     "execution_count": 4,
     "metadata": {},
     "output_type": "execute_result"
    }
   ],
   "source": [
    "#5: This will query AWS(where the granules are stored) so we know the total size of our first N granules\n",
    "# This may take some time, try reducing the selected area or constraining the other parameters to download a reasonable number of granules.\n",
    "url_list = [url['url'] for url in urls]\n",
    "# urls\n",
    "filtered_urls = ui.filter_urls(url_list, max_files_per_year=4, months=[2,3,4,5,6,7,8,9])\n",
    "\n",
    "# max_granules = 100\n",
    "# sizes = ui.calculate_file_sizes(filtered_urls, max_granules)\n",
    "# total_zise = round(sum(sizes)/1024,2)\n",
    "# print(f'Approx size to download for the first {max_granules:,} granules: {total_zise} MB')\n",
    "print(len(filtered_urls))\n",
    "filtered_urls"
   ]
  },
  {
   "cell_type": "markdown",
   "metadata": {},
   "source": [
    "## Downloading the data\n",
    "**Now that we have our list of data granules we can download them from AWS.**\n",
    "\n",
    "If this notebook is running inside AWS we could load the granules into a Dask cluster and reduce our processing times and costs.\n",
    "Let's get some coffee, some data requests are in the Gigabytes realm and may take a little while to be processed. \n",
    "Once that your status URL says is completed we can grab the HDF5 data file using the URL on the same response!"
   ]
  },
  {
   "cell_type": "code",
   "execution_count": 5,
   "metadata": {},
   "outputs": [
    {
     "data": {
      "text/plain": [
       "['LC08_L1TP_009012_20180730_20180814_01_T1_X_LC08_L1TP_009012_20170711_20170711_01_RT_G0240V01_P092.nc',\n",
       " 'LC08_L1TP_008012_20170415_20170501_01_T1_X_LC08_L1TP_008012_20170226_20170316_01_T1_G0240V01_P095.nc',\n",
       " 'LC08_L1TP_007012_20170627_20170627_01_RT_X_LC08_L1TP_007012_20170510_20170516_01_T1_G0240V01_P091.nc',\n",
       " 'LC08_L1TP_007012_20150825_20170405_01_T1_X_LC08_L1TP_007012_20150708_20170407_01_T1_G0240V01_P098.nc',\n",
       " 'LC08_L1TP_007012_20170729_20170730_01_RT_X_LC08_L1TP_007012_20170627_20170714_01_T1_G0240V01_P097.nc',\n",
       " 'LC08_L1TP_007012_20170729_20170730_01_RT_X_LC08_L1TP_007012_20170627_20170627_01_RT_G0240V01_P097.nc',\n",
       " 'LC08_L1TP_007012_20180918_20180918_01_RT_X_LC08_L1TP_007012_20180902_20180912_01_T1_G0240V01_P091.nc',\n",
       " 'LC08_L1TP_008012_20150512_20170409_01_T1_X_LC08_L1TP_008012_20150426_20170409_01_T1_G0240V01_P093.nc',\n",
       " 'LC08_L1TP_009011_20130411_20170505_01_T1_X_LC08_L1TP_011011_20130322_20170505_01_T1_G0240V01_P092.nc',\n",
       " 'LC08_L1TP_009011_20130427_20170505_01_T1_X_LC08_L1TP_011011_20130322_20170505_01_T1_G0240V01_P092.nc',\n",
       " 'LC08_L1TP_007012_20180918_20180928_01_T1_X_LC08_L1TP_007012_20180902_20180912_01_T1_G0240V01_P091.nc',\n",
       " 'LC08_L1TP_010011_20150526_20170408_01_T1_X_LC08_L1TP_010011_20150424_20170409_01_T1_G0240V01_P093.nc',\n",
       " 'LC08_L1TP_009011_20130411_20170505_01_T1_X_LE07_L1TP_009011_20130318_20161125_01_T1_G0240V01_P094.nc',\n",
       " 'LC08_L1TP_009011_20130411_20170505_01_T1_X_LE07_L1TP_009011_20130403_20161125_01_T1_G0240V01_P096.nc',\n",
       " 'LT05_L1TP_011011_19920415_20180220_01_T1_X_LT05_L1TP_009011_19920401_20180220_01_T1_G0240V01_P092.nc',\n",
       " 'LT05_L1TP_011011_19920415_20180220_01_T1_X_LT05_L1TP_011011_19920314_20180220_01_T2_G0240V01_P092.nc',\n",
       " 'LE07_L1TP_008012_20030417_20170125_01_T1_X_LE07_L1TP_008012_20030401_20170126_01_T1_G0240V01_P095.nc',\n",
       " 'LT05_L1TP_008012_19890504_20170203_01_T1_X_LT05_L1TP_008012_19890402_20170204_01_T1_G0240V01_P092.nc',\n",
       " 'LT05_L1TP_011011_19920415_20180220_01_T1_X_LT05_L1TP_010011_19920323_20180220_01_T1_G0240V01_P092.nc',\n",
       " 'LT05_L1TP_011011_19880420_20170209_01_T1_X_LT05_L1TP_011011_19880404_20170209_01_T1_G0240V01_P091.nc',\n",
       " 'LT05_L1TP_007012_19890427_20170203_01_T1_X_LT05_L1TP_008012_19890402_20170204_01_T1_G0240V01_P093.nc',\n",
       " 'LT05_L1TP_009011_19930506_20180220_01_T1_X_LT05_L1TP_011011_19930418_20180220_01_T1_G0240V01_P092.nc',\n",
       " 'LC08_L1TP_007012_20180411_20180411_01_RT_X_LC08_L1TP_007012_20180310_20180310_01_RT_G0240V01_P093.nc',\n",
       " 'LT05_L1TP_008012_19890504_20170203_01_T1_X_LT05_L1TP_008012_19890402_20170204_01_T1_G0240V01_P091.nc',\n",
       " 'LC08_L1TP_009011_20150503_20170409_01_T1_X_LC08_L1TP_009011_20150316_20170412_01_T1_G0240V01_P095.nc']"
      ]
     },
     "execution_count": 5,
     "metadata": {},
     "output_type": "execute_result"
    }
   ],
   "source": [
    "# This will download the first 50 velocity pairs\n",
    "files = ui.download_velocity_pairs(filtered_urls, start=0, end=50)\n",
    "files"
   ]
  },
  {
   "cell_type": "markdown",
   "metadata": {},
   "source": [
    "## Working with the data"
   ]
  },
  {
   "cell_type": "code",
   "execution_count": 6,
   "metadata": {},
   "outputs": [],
   "source": [
    "import os\n",
    "import glob\n",
    "import xarray as xr\n",
    "import pyproj\n",
    "import warnings\n",
    "import pandas as pd\n",
    "import numpy as np\n",
    "from datetime import datetime\n",
    "warnings.filterwarnings('ignore')\n",
    "coord = ui.dc.last_draw['geometry']['coordinates']\n",
    "# coord = [-49.59321, 69.210579]\n",
    "#loads an array of xarray datasets from the nc files\n",
    "velocity_pairs = ui.load_velocity_pairs('data')"
   ]
  },
  {
   "cell_type": "code",
   "execution_count": 7,
   "metadata": {},
   "outputs": [],
   "source": [
    "velocities = []\n",
    "for ds in velocity_pairs:\n",
    "    proj = str(int(ds.UTM_Projection.spatial_epsg))\n",
    "    selected_coord = ui.transform_coord('4326',proj, coord[0], coord[1])\n",
    "    lon = round(selected_coord[0])\n",
    "    lat = round(selected_coord[1])\n",
    "    mid_date = datetime.strptime(ds.img_pair_info.date_center,'%Y%m%d')\n",
    "    # Is this correct? 1000 in UMT will be 1.2km?\n",
    "    mask_lon = (ds.x >= lon - 1200) & (ds.x <= lon + 1200)\n",
    "    mask_lat = (ds.y >= lat - 1200) & (ds.y <= lat + 1200)\n",
    "    # gives us 6 to 9 points to \"average\" here we need some sort of weighted average\n",
    "    v = ds.where(mask_lon & mask_lat , drop=True).v.mean(skipna=True)\n",
    "    # If we have a valid value we add it to the velocities array.\n",
    "    if not np.isnan(v):\n",
    "        velocities.append({'date': mid_date, 'mean_velocity': v.values.ravel()[0]})\n"
   ]
  },
  {
   "cell_type": "code",
   "execution_count": 8,
   "metadata": {},
   "outputs": [
    {
     "data": {
      "text/html": [
       "<div>\n",
       "<style scoped>\n",
       "    .dataframe tbody tr th:only-of-type {\n",
       "        vertical-align: middle;\n",
       "    }\n",
       "\n",
       "    .dataframe tbody tr th {\n",
       "        vertical-align: top;\n",
       "    }\n",
       "\n",
       "    .dataframe thead th {\n",
       "        text-align: right;\n",
       "    }\n",
       "</style>\n",
       "<table border=\"1\" class=\"dataframe\">\n",
       "  <thead>\n",
       "    <tr style=\"text-align: right;\">\n",
       "      <th></th>\n",
       "      <th>date</th>\n",
       "      <th>mean_velocity</th>\n",
       "    </tr>\n",
       "  </thead>\n",
       "  <tbody>\n",
       "    <tr>\n",
       "      <th>0</th>\n",
       "      <td>2013-03-30</td>\n",
       "      <td>10474.101562</td>\n",
       "    </tr>\n",
       "    <tr>\n",
       "      <th>1</th>\n",
       "      <td>1989-04-18</td>\n",
       "      <td>4531.538574</td>\n",
       "    </tr>\n",
       "    <tr>\n",
       "      <th>2</th>\n",
       "      <td>1989-04-18</td>\n",
       "      <td>4545.862305</td>\n",
       "    </tr>\n",
       "    <tr>\n",
       "      <th>3</th>\n",
       "      <td>2015-05-10</td>\n",
       "      <td>9383.977539</td>\n",
       "    </tr>\n",
       "    <tr>\n",
       "      <th>4</th>\n",
       "      <td>1989-04-14</td>\n",
       "      <td>5687.419922</td>\n",
       "    </tr>\n",
       "    <tr>\n",
       "      <th>5</th>\n",
       "      <td>2017-03-22</td>\n",
       "      <td>7865.904297</td>\n",
       "    </tr>\n",
       "    <tr>\n",
       "      <th>6</th>\n",
       "      <td>2015-04-09</td>\n",
       "      <td>9612.329102</td>\n",
       "    </tr>\n",
       "    <tr>\n",
       "      <th>7</th>\n",
       "      <td>2003-04-09</td>\n",
       "      <td>7753.330078</td>\n",
       "    </tr>\n",
       "    <tr>\n",
       "      <th>8</th>\n",
       "      <td>2015-05-04</td>\n",
       "      <td>9456.179688</td>\n",
       "    </tr>\n",
       "    <tr>\n",
       "      <th>9</th>\n",
       "      <td>2013-04-07</td>\n",
       "      <td>10614.330078</td>\n",
       "    </tr>\n",
       "  </tbody>\n",
       "</table>\n",
       "</div>"
      ],
      "text/plain": [
       "        date  mean_velocity\n",
       "0 2013-03-30   10474.101562\n",
       "1 1989-04-18    4531.538574\n",
       "2 1989-04-18    4545.862305\n",
       "3 2015-05-10    9383.977539\n",
       "4 1989-04-14    5687.419922\n",
       "5 2017-03-22    7865.904297\n",
       "6 2015-04-09    9612.329102\n",
       "7 2003-04-09    7753.330078\n",
       "8 2015-05-04    9456.179688\n",
       "9 2013-04-07   10614.330078"
      ]
     },
     "execution_count": 8,
     "metadata": {},
     "output_type": "execute_result"
    }
   ],
   "source": [
    "import pandas as pd\n",
    "# order by date\n",
    "df = pd.DataFrame.from_dict(velocities)\n",
    "df"
   ]
  },
  {
   "cell_type": "code",
   "execution_count": 14,
   "metadata": {},
   "outputs": [
    {
     "data": {
      "text/plain": [
       "<matplotlib.axes._subplots.AxesSubplot at 0x7f29707110d0>"
      ]
     },
     "execution_count": 14,
     "metadata": {},
     "output_type": "execute_result"
    },
    {
     "data": {
      "image/png": "[encoded data removed]",
      "text/plain": [
       "<Figure size 432x288 with 1 Axes>"
      ]
     },
     "metadata": {
      "needs_background": "light"
     },
     "output_type": "display_data"
    }
   ],
   "source": [
    "df.plot(x ='date', y='mean_velocity', kind = 'bar')"
   ]
  },
  {
   "cell_type": "code",
   "execution_count": 17,
   "metadata": {},
   "outputs": [
    {
     "data": {
      "text/plain": [
       "<matplotlib.collections.PathCollection at 0x7f29704c7fd0>"
      ]
     },
     "execution_count": 17,
     "metadata": {},
     "output_type": "execute_result"
    },
    {
     "data": {
      "image/png": "[encoded data removed]",
      "text/plain": [
       "<Figure size 432x288 with 2 Axes>"
      ]
     },
     "metadata": {
      "needs_background": "light"
     },
     "output_type": "display_data"
    }
   ],
   "source": [
    "\n",
    "velocity_pairs[15].plot.scatter(x='x', y='y', hue='v')"
   ]
  },
  {
   "cell_type": "code",
   "execution_count": null,
   "metadata": {},
   "outputs": [],
   "source": [
    "ds_cube.sel(time=0)"
   ]
  },
  {
   "cell_type": "code",
   "execution_count": null,
   "metadata": {},
   "outputs": [],
   "source": [
    "ui.dc.last_draw['geometry']['coordinates']"
   ]
  }
 ],
 "metadata": {
  "kernelspec": {
   "display_name": "Python 3",
   "language": "python",
   "name": "python3"
  },
  "language_info": {
   "codemirror_mode": {
    "name": "ipython",
    "version": 3
   },
   "file_extension": ".py",
   "mimetype": "text/x-python",
   "name": "python",
   "nbconvert_exporter": "python",
   "pygments_lexer": "ipython3",
   "version": "3.7.8"
  }
 },
 "nbformat": 4,
 "nbformat_minor": 4
}
