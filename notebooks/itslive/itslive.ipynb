{
 "cells": [
  {
   "cell_type": "markdown",
   "metadata": {},
   "source": [
    "# ITS_LIVE \n",
    "## Global Ice Velocities\n",
    "\n",
    "\n",
    "---\n",
    "> OpenApi endpoint https://staging.nsidc.org/apps/itslive-search/docs\n"
   ]
  },
  {
   "cell_type": "code",
   "execution_count": 1,
   "metadata": {},
   "outputs": [],
   "source": [
    "#1: We are importing the its_live class and supresing non essential warnings\n",
    "from itslive import itslive_ui\n",
    "ui = itslive_ui('north')\n",
    "import warnings\n",
    "warnings.filterwarnings('ignore')"
   ]
  },
  {
   "cell_type": "code",
   "execution_count": 5,
   "metadata": {},
   "outputs": [
    {
     "data": {
      "application/vnd.jupyter.widget-view+json": {
       "model_id": "567291f405354a52abb330c9c32577a8",
       "version_major": 2,
       "version_minor": 0
      },
      "text/plain": [
       "Dropdown(description='Hemisphere:', options=('global', 'south', 'north'), value='global')"
      ]
     },
     "metadata": {},
     "output_type": "display_data"
    },
    {
     "data": {
      "application/vnd.jupyter.widget-view+json": {
       "model_id": "f87c4684b83d42b4862016484c6153c4",
       "version_major": 2,
       "version_minor": 0
      },
      "text/plain": [
       "HBox(children=(Label(value='Minimum % of valid pixels per image pair:'), Dropdown(index=1, layout=Layout(displ…"
      ]
     },
     "metadata": {},
     "output_type": "display_data"
    },
    {
     "data": {
      "application/vnd.jupyter.widget-view+json": {
       "model_id": "e127281dbdc746008b57ce6319986250",
       "version_major": 2,
       "version_minor": 0
      },
      "text/plain": [
       "HBox(children=(Label(value='Days of separation between image pairs:'), Dropdown(layout=Layout(display='flex', …"
      ]
     },
     "metadata": {},
     "output_type": "display_data"
    },
    {
     "data": {
      "application/vnd.jupyter.widget-view+json": {
       "model_id": "e7cc1ec5f002411486d88f45d3475798",
       "version_major": 2,
       "version_minor": 0
      },
      "text/plain": [
       "SelectionRangeSlider(description='Date Range', index=(9849, 13149), layout=Layout(width='100%'), options=((' 1…"
      ]
     },
     "metadata": {},
     "output_type": "display_data"
    },
    {
     "data": {
      "application/vnd.jupyter.widget-view+json": {
       "model_id": "a0d0885dbea54ce89db4d9ccd8dd094f",
       "version_major": 2,
       "version_minor": 0
      },
      "text/plain": [
       "Map(center=[0, 0], controls=(ZoomControl(options=['position', 'zoom_in_text', 'zoom_in_title', 'zoom_out_text'…"
      ]
     },
     "metadata": {},
     "output_type": "display_data"
    }
   ],
   "source": [
    "#2: Now let's render our UI and pick up an hemisphere, if you update the hemisphere you need to execute the cell again.\n",
    "ui.render()"
   ]
  },
  {
   "cell_type": "code",
   "execution_count": 6,
   "metadata": {},
   "outputs": [
    {
     "name": "stdout",
     "output_type": "stream",
     "text": [
      "current parameters: {'polygon': '-44.4141,59.8647,-44.4141,60.3465,-42.4805,60.3465,-42.4805,59.8647,-44.4141,59.8647', 'start': '2010-12-19', 'end': '2020-01-01', 'percent_valid_pixels': '10'}\n",
      "Total data granules: 4,374\n"
     ]
    },
    {
     "data": {
      "text/plain": [
       "[{'count': 5, 'year': 2010},\n",
       " {'count': 102, 'year': 2011},\n",
       " {'count': 143, 'year': 2012},\n",
       " {'count': 465, 'year': 2013},\n",
       " {'count': 827, 'year': 2014},\n",
       " {'count': 601, 'year': 2015},\n",
       " {'count': 520, 'year': 2016},\n",
       " {'count': 857, 'year': 2017},\n",
       " {'count': 853, 'year': 2018},\n",
       " {'count': 1, 'year': 2019}]"
      ]
     },
     "execution_count": 6,
     "metadata": {},
     "output_type": "execute_result"
    }
   ],
   "source": [
    "#3: We build the parameters to query the ITS_LIVE Search API, we get the time coverage for our selected area\n",
    "params = ui.build_params()\n",
    "print(f'current parameters: {params}')\n",
    "timeline = None\n",
    "if params is not None:\n",
    "    timeline = ui.update_coverages()\n",
    "    total =  sum(item['count'] for item in timeline)\n",
    "    print(f'Total data granules: {total:,}')\n",
    "timeline"
   ]
  },
  {
   "cell_type": "code",
   "execution_count": 7,
   "metadata": {},
   "outputs": [],
   "source": [
    "#4: Now we are going to get the velocity pair urls\n",
    "params = ui.build_params()\n",
    "if params is not None:\n",
    "    urls = ui.get_granule_urls()"
   ]
  },
  {
   "cell_type": "code",
   "execution_count": 9,
   "metadata": {},
   "outputs": [
    {
     "data": {
      "text/plain": [
       "[{'url': 'http://its-live-data.jpl.nasa.gov.s3.amazonaws.com/velocity_image_pair/landsat/v00.0/32623/LC08_L1TP_001018_20130926_20170501_01_T1_X_LE07_L1TP_001018_20120814_20161129_01_T1_G0240V01_P045.nc'},\n",
       " {'url': 'http://its-live-data.jpl.nasa.gov.s3.amazonaws.com/velocity_image_pair/landsat/v00.0/32623/LC08_L1TP_001018_20131215_20170427_01_T1_X_LE07_L1TP_001018_20120713_20161130_01_T1_G0240V01_P022.nc'},\n",
       " {'url': 'http://its-live-data.jpl.nasa.gov.s3.amazonaws.com/velocity_image_pair/landsat/v00.0/32623/LC08_L1TP_001018_20131215_20170427_01_T1_X_LE07_L1TP_001018_20120814_20161129_01_T1_G0240V01_P029.nc'},\n",
       " {'url': 'http://its-live-data.jpl.nasa.gov.s3.amazonaws.com/velocity_image_pair/landsat/v00.0/32623/LC08_L1TP_001018_20131215_20170427_01_T1_X_LE07_L1TP_001018_20131004_20161120_01_T1_G0240V01_P035.nc'},\n",
       " {'url': 'http://its-live-data.jpl.nasa.gov.s3.amazonaws.com/velocity_image_pair/landsat/v00.0/32623/LC08_L1TP_001018_20131231_20170427_01_T1_X_LE07_L1TP_001018_20120814_20161129_01_T1_G0240V01_P042.nc'},\n",
       " {'url': 'http://its-live-data.jpl.nasa.gov.s3.amazonaws.com/velocity_image_pair/landsat/v00.0/32623/LC08_L1TP_001018_20131231_20170427_01_T1_X_LE07_L1TP_001018_20131004_20161120_01_T1_G0240V01_P050.nc'},\n",
       " {'url': 'http://its-live-data.jpl.nasa.gov.s3.amazonaws.com/velocity_image_pair/landsat/v00.0/32623/LC08_L1TP_001018_20140321_20170424_01_T1_X_LE07_L1TP_001018_20130902_20161121_01_T1_G0240V01_P014.nc'},\n",
       " {'url': 'http://its-live-data.jpl.nasa.gov.s3.amazonaws.com/velocity_image_pair/landsat/v00.0/32623/LC08_L1TP_001018_20140321_20170424_01_T1_X_LE07_L1TP_001018_20131004_20161120_01_T1_G0240V01_P054.nc'},\n",
       " {'url': 'http://its-live-data.jpl.nasa.gov.s3.amazonaws.com/velocity_image_pair/landsat/v00.0/32623/LC08_L1TP_001018_20140406_20170424_01_T1_X_LE07_L1TP_001018_20131004_20161120_01_T1_G0240V01_P052.nc'},\n",
       " {'url': 'http://its-live-data.jpl.nasa.gov.s3.amazonaws.com/velocity_image_pair/landsat/v00.0/32623/LC08_L1TP_001018_20140422_20170423_01_T1_X_LC08_L1TP_001018_20130926_20170501_01_T1_G0240V01_P033.nc'}]"
      ]
     },
     "execution_count": 9,
     "metadata": {},
     "output_type": "execute_result"
    }
   ],
   "source": [
    "#5: Print the first 10 granule URLs\n",
    "urls[0:10]"
   ]
  },
  {
   "cell_type": "code",
   "execution_count": null,
   "metadata": {},
   "outputs": [],
   "source": [
    "#6: This will query AWS(where the granules are stored) so we know the total size of our first N granules\n",
    "# This may take some time, try reducing the selected area or constraining the other parameters to download a reasonable number of granules.\n",
    "max_granules = 10000\n",
    "sizes = ui.calculate_file_sizes(max_granules)\n",
    "total_zise = round(sum(sizes)/1024,2)\n",
    "print(f'Size to download for the first {max_granules:,} granules: {total_zise} MB')"
   ]
  },
  {
   "cell_type": "markdown",
   "metadata": {},
   "source": [
    "## Downloading the data\n",
    "**Now that we have our list of data granules we can download them from AWS.**\n",
    "\n",
    "If this notebook is running inside AWS we could load the granules into a Dask cluster and reduce our processing times and costs.\n",
    "Let's get some coffee, some data requests are in the Gigabytes realm and may take a little while to be processed. \n",
    "Once that your status URL says is completed we can grab the HDF5 data file using the URL on the same response!"
   ]
  },
  {
   "cell_type": "code",
   "execution_count": null,
   "metadata": {},
   "outputs": [],
   "source": [
    "#7: Download the velocity granules"
   ]
  }
 ],
 "metadata": {
  "kernelspec": {
   "display_name": "Python 3",
   "language": "python",
   "name": "python3"
  },
  "language_info": {
   "codemirror_mode": {
    "name": "ipython",
    "version": 3
   },
   "file_extension": ".py",
   "mimetype": "text/x-python",
   "name": "python",
   "nbconvert_exporter": "python",
   "pygments_lexer": "ipython3",
   "version": "3.7.6"
  }
 },
 "nbformat": 4,
 "nbformat_minor": 4
}
