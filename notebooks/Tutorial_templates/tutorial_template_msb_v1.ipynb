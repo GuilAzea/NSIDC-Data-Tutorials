{
 "cells": [
  {
   "cell_type": "markdown",
   "id": "1365fec9-3992-4754-a4a7-abd4d105c412",
   "metadata": {},
   "source": [
    "<center>\n",
    "<img src='./img/nsidc_logo.png'/>\n",
    "\n",
    "# **Tutorial Template**\n",
    "### Tutorial subtitle\n",
    "</center>\n",
    "\n",
    "---\n",
    "<div>\n",
    "<img align=\"right\" width=\"50%\" height=\"200px\" src='./img/vaex.png'/>\n",
    "</div>\n",
    "\n",
    "# 1. Tutorial Introduction/Overview\n",
    "This Jupyter notebook is an interactive document designed to help users learn how to...\n",
    "\n",
    "\n",
    "## **1.1 Knowledge Requirements**\n",
    "\n",
    "To get the most out of this notebook you should be familiar with...\n",
    "\n",
    "The main Python packages/libraries that will be used in this notebook are:\n",
    "    \n",
    "The environment you should set up is xxxx and can be found here:\n",
    "\n",
    "\n",
    "## **1.2 Learning Goals/Outcomes**\n",
    "\n",
    "After completing this notebook you will be able to: \n",
    "\n",
    "    \n",
    "## **1.3 Example of end product** \n",
    "\n",
    "This could be a data plot, map or some other type of visualization\n",
    "\n",
    "## **1.4 Time requirement for completing this tutorial**\n",
    "\n",
    "This tutorial takes approximately xx min to complete\n"
   ]
  },
  {
   "cell_type": "markdown",
   "id": "a6766971-80fb-49e6-b941-ce97cfe03f5f",
   "metadata": {},
   "source": [
    "# **2. Earthdata Login**\n",
    "\n",
    "\n",
    "**Note**:  Access to NASA Earthdata requires an Earthdata Login for authentification.  Go to this [link](https://urs.earthdata.nasa.gov/) to register for an Earthdata Login, if you do not already have one. You don't need to be a NASA employee to register with NASA Earthdata.\n",
    "\n",
    "Instructions for different authentification methods - .netrc file, environment variable, interactive mode?\n"
   ]
  },
  {
   "cell_type": "markdown",
   "id": "6d042bc5-e836-45a2-8cf3-1de2f1133781",
   "metadata": {},
   "source": [
    "# **3. Tutorial steps**"
   ]
  },
  {
   "cell_type": "markdown",
   "id": "7b27ae25-baf9-4579-822f-cd05a9011a0e",
   "metadata": {},
   "source": [
    "## **3.1 Import libraries**"
   ]
  },
  {
   "cell_type": "code",
   "execution_count": null,
   "id": "59e79729-1b02-4ef5-aee1-8923690243da",
   "metadata": {},
   "outputs": [],
   "source": [
    "# Importing library\n",
    "# from <library> import <tool>\n",
    "\n",
    "#other stuff"
   ]
  },
  {
   "cell_type": "markdown",
   "id": "fad2a36b-8b62-4de0-846f-80debb7b4aa9",
   "metadata": {
    "tags": []
   },
   "source": [
    "## **3.2 Do the things...**\n",
    "\n",
    "Best practices for outlining steps (for more details please see [Pedagogy Best Practices](https://github.com/nsidc/NSIDC-Data-Tutorials/blob/main/pedagogy_guide.md)):\n",
    "                                    \n",
    "    -Avoid cognitive overload by restricting notebook to a single, short task\n",
    "    -Limit the amount of code in each cell\n",
    "    -Write code to be understandable (rather than efficient, for example)                               \n",
    "    -Keep comments in markdown cells as much as possible\n",
    "    "
   ]
  },
  {
   "cell_type": "markdown",
   "id": "1eb79fcc-e75e-42b3-8b65-f2cbf77b207f",
   "metadata": {},
   "source": [
    "# **4. Learning outcomes recap**\n",
    "\n",
    "You should now be able to...  You should now be familiar with..."
   ]
  }
 ],
 "metadata": {
  "kernelspec": {
   "display_name": "Python 3 (ipykernel)",
   "language": "python",
   "name": "python3"
  },
  "language_info": {
   "codemirror_mode": {
    "name": "ipython",
    "version": 3
   },
   "file_extension": ".py",
   "mimetype": "text/x-python",
   "name": "python",
   "nbconvert_exporter": "python",
   "pygments_lexer": "ipython3",
   "version": "3.9.9"
  }
 },
 "nbformat": 4,
 "nbformat_minor": 5
}
