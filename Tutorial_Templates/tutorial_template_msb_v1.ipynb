{
 "cells": [
  {
   "cell_type": "markdown",
   "id": "e86eaecf-a612-4dbb-8bdc-5b5dfddf65b9",
   "metadata": {},
   "source": [
    "<center>\n",
    "<img src='./img/nsidc_logo.png'/>\n",
    "\n",
    "# **Tutorial Title**\n",
    "\n",
    "</center>\n",
    "\n",
    "---\n",
    "\n",
    "*This template is designed for you to make a copy and replace the text and sample code in each section with your own, while following the general format outlined here.  You will likely have a different number of cells in each section, so feel free to add and remove.  The template is meant as a guide for which content is important to include.*\n",
    "\n",
    "**Reminders:**  \n",
    "    \n",
    "**Please read our [Data Tutorials Best Practices Guide](https://nsidc.org/confluence/pages/viewpage.action?spaceKey=DAAC&title=Data+Tutorials+Best+Practices+Guide) and our [Pedagogy Guide](https://github.com/nsidc/NSIDC-Data-Tutorials/blob/main/pedagogy_guide.md) before creating your tutorial.  The pedagogy guide outlines best practices for creating and delivering code-based tutorials in a notebook format.**\n",
    "\n",
    "**Please identify which libraries/packages you will be using in the tutorial and work with the Data Use and Education team to make sure they are included in the \"tutorials\" environment.  See section 3ci of the [Data Tutorials Best Practice Guide](https://nsidc.org/confluence/pages/viewpage.action?spaceKey=DAAC&title=Data+Tutorials+Best+Practices+Guide#DataTutorialsBestPracticesGuide-Stepsneededtopublishanewtutorial).**"
   ]
  },
  {
   "cell_type": "markdown",
   "id": "4101ae06-3984-435c-abcc-f6346d15069b",
   "metadata": {},
   "source": [
    "## **1. Tutorial Introduction/Overview**\n",
    "\n",
    "Provide an overview of the tutorial here, including any relevant background material and the motivation for creating the tutorial. Indicate whether the tutorial was designed to be self-led or presented at a hackweek or conference workshop.   \n"
   ]
  },
  {
   "cell_type": "markdown",
   "id": "42041174-fed6-4d7f-869f-93b43e08e3cc",
   "metadata": {},
   "source": [
    "### **1.1 Credits**\n",
    "\n",
    "List the contributors to the tutorial.\n",
    "\n",
    "Include the following statement:\n",
    "\n",
    "For questions regarding the notebook, or to report problems, please create a new issue in the [NSIDC-Data-Tutorials repo](https://github.com/nsidc/NSIDC-Data-Tutorials/issues)."
   ]
  },
  {
   "cell_type": "markdown",
   "id": "e30e2cbb-12bb-438b-9113-24a553c3412f",
   "metadata": {},
   "source": [
    "### **1.2 Objectives/Learning Goals/Outcomes**\n",
    "\n",
    "List the objectives and/or skills gained upon completion of the tutorial.\n",
    "\n",
    "*After completing this notebook you should be able to...* "
   ]
  },
  {
   "cell_type": "markdown",
   "id": "bcbafce1-c0c0-448c-942f-961e70078515",
   "metadata": {},
   "source": [
    "### **1.3 Knowledge Requirements/Prerequisites**\n",
    "\n",
    "Please include a list of some of the knowledge requirements or skills that would be useful or necessary for successful completion or comprehension of the tutorial.\n",
    "\n",
    "***Required:  Include guidance for creating the tutorial environment and point to the main repo [README](https://github.com/nsidc/NSIDC-Data-Tutorials/blob/main/README.md) for setup instructions.***\n",
    "\n",
    "Some examples of other useful information for tutorial users include the following:\n",
    "\n",
    "*To get the most out of this tutorial notebook, you should be familiar with the following concepts/data sets/programming languages...*\n",
    "\n",
    "*The main packages/libraries that will be used in this notebook are...*\n",
    "\n",
    "*The GIS concepts applied in this tutorial are...*"
   ]
  },
  {
   "cell_type": "markdown",
   "id": "12d33a07-8f17-4b69-a48a-d3f47f1583eb",
   "metadata": {},
   "source": [
    "### **1.4 Example of end product (recommended, not required)** \n",
    "\n",
    "Include a figure that illustrates the end product of the notebook.  This could be a data plot, map or some other type of visualization.\n",
    "\n",
    "<div>\n",
    "<img align=\"left\" width=\"50%\" height=\"100px\" src='./img/example_end_product.png'/>\n",
    "</div>"
   ]
  },
  {
   "cell_type": "markdown",
   "id": "48be7e70-e147-4cf9-a8f7-0b727ca383cd",
   "metadata": {},
   "source": [
    "### **1.5 Time requirement**\n",
    "\n",
    "Provide an estimate of the amount of time required to complete the tutorial."
   ]
  },
  {
   "cell_type": "markdown",
   "id": "53b77eb5-d5ed-4ddd-8fb1-6c69618d7852",
   "metadata": {},
   "source": [
    "## **2. Tutorial steps**"
   ]
  },
  {
   "cell_type": "markdown",
   "id": "71dd646d-cb10-4af9-8e1a-71e37ead4e85",
   "metadata": {},
   "source": [
    "### **2.1 Import libraries and classes**\n",
    "\n",
    "Import the libraries/packages and tools that will be needed to run the code in the tutorial."
   ]
  },
  {
   "cell_type": "code",
   "execution_count": null,
   "id": "59e79729-1b02-4ef5-aee1-8923690243da",
   "metadata": {},
   "outputs": [],
   "source": [
    "# Importing libraries\n",
    "\n",
    "# from <library> import <tool>"
   ]
  },
  {
   "cell_type": "markdown",
   "id": "ce05d22a-d509-44d7-98d1-c1d375ab00ee",
   "metadata": {},
   "source": [
    "### **2.2. Authentication/Earthdata Login**\n",
    "\n",
    "\n",
    "**Note**:  Access to NASA Earthdata requires an Earthdata Login for authentification.  Instruct users to go to this [link](https://urs.earthdata.nasa.gov/) to register for an Earthdata Login in the event they do not already have one. Users do not need to be NASA employees to register.\n",
    "\n",
    "Please include a description or link to specific instructions for providing credentials (e.g.  *.netrc file, environment variable, or interactive mode plus the particular method of the library/package used in the tutorial.*).  \n",
    "\n",
    "Different libraries will have different methods for authenticating via Earthdata Login.  The following cell contains an example of the authentication process used by the [earthdata python client for NASA CMR](https://github.com/nsidc/earthdata) (if you are using a different library, yours will be different).  The process requires having created a .netrc file in your home directory following [these instructions](https://nsidc.org/support/how/how-do-i-programmatically-request-data-services) (Step 1). The earthdata library's \"login\" method is called while passing the argument \"strategy=netrc\".  If no .netrc file is found, the method will provide interactive cells for entering Earthdata Login credentials within the notebook."
   ]
  },
  {
   "cell_type": "code",
   "execution_count": null,
   "id": "d47aa955-3d91-4418-85f9-5772f400f712",
   "metadata": {},
   "outputs": [],
   "source": [
    "#example authentication\n",
    "\n",
    "auth = Auth().login(strategy='netrc')\n",
    "if auth.authenticated is False:\n",
    "    auth = Auth().login(strategy='interactive')"
   ]
  },
  {
   "cell_type": "markdown",
   "id": "7ee705a6-ef86-4fca-b0d7-0e7ae0298ab0",
   "metadata": {
    "tags": []
   },
   "source": [
    "### **2.3 Main body of the tutorial**\n",
    "\n",
    "Create the body of the tutorial here using a series of code cells. Intersperse the code cells with markdown cells containing descriptions of the steps and any relevant commentary.\n",
    "\n",
    "Some important examples of best practices for designing and creating the tutorial steps include: \n",
    "                                    \n",
    "*Avoid cognitive overload by restricting your notebook to a single, short task.*\n",
    "\n",
    "*Limit the amount of code in each cell.  Many small code snippets in individual cells are better than a single long block of code.*\n",
    "\n",
    "*Write code to be understandable (rather than efficient, for example).*\n",
    "\n",
    "*Confine comments to markdown cells as much as possible.*\n",
    "\n",
    "For more details please see [Pedagogy Best Practices](https://github.com/nsidc/NSIDC-Data-Tutorials/blob/main/pedagogy_guide.md)."
   ]
  },
  {
   "cell_type": "code",
   "execution_count": null,
   "id": "d66e54ff-71dc-422c-9e8a-5b154fa0dbf7",
   "metadata": {},
   "outputs": [],
   "source": [
    "#code cells - add as many as you need, following advice above."
   ]
  },
  {
   "cell_type": "markdown",
   "id": "788d4ebc-a452-4c61-a25e-c6b72288d191",
   "metadata": {},
   "source": [
    "## **3. Learning outcomes recap**\n",
    "\n",
    "Provide a brief summary of the learning outcomes of the tutorial\n"
   ]
  },
  {
   "cell_type": "markdown",
   "id": "e87da360-fa68-43e6-993e-5d5098b70aed",
   "metadata": {},
   "source": [
    "## **4. Additional resources (optional)**\n",
    "\n",
    "List some additional resources for users to consult, if applicable/desired."
   ]
  },
  {
   "cell_type": "markdown",
   "id": "178b3e1e-71e4-4aab-bdbe-4d33dbce01e9",
   "metadata": {},
   "source": [
    "________\n",
    "\n",
    "### **When your tutorial is ready for review,  please read our [Contributor Guide](https://github.com/nsidc/NSIDC-Data-Tutorials/blob/main/contributor_guide.md) for next steps.**"
   ]
  },
  {
   "cell_type": "code",
   "execution_count": null,
   "id": "66b7019c-b0c8-4c96-a36c-9cb1d17b6303",
   "metadata": {},
   "outputs": [],
   "source": []
  }
 ],
 "metadata": {
  "kernelspec": {
   "display_name": "Python 3 (ipykernel)",
   "language": "python",
   "name": "python3"
  },
  "language_info": {
   "codemirror_mode": {
    "name": "ipython",
    "version": 3
   },
   "file_extension": ".py",
   "mimetype": "text/x-python",
   "name": "python",
   "nbconvert_exporter": "python",
   "pygments_lexer": "ipython3",
   "version": "3.9.9"
  }
 },
 "nbformat": 4,
 "nbformat_minor": 5
}
